{
 "cells": [
  {
   "cell_type": "code",
   "execution_count": 65,
   "metadata": {},
   "outputs": [],
   "source": [
    "import pandas as pd\n",
    "import os"
   ]
  },
  {
   "cell_type": "code",
   "execution_count": 66,
   "metadata": {},
   "outputs": [
    {
     "data": {
      "text/plain": [
       "'/Users/akankshamishra/Desktop/DataScience/Data sets'"
      ]
     },
     "execution_count": 66,
     "metadata": {},
     "output_type": "execute_result"
    }
   ],
   "source": [
    "os.getcwd()"
   ]
  },
  {
   "cell_type": "code",
   "execution_count": 67,
   "metadata": {},
   "outputs": [],
   "source": [
    "os.chdir(\"/Users/akankshamishra/Desktop/DataScience/Data sets/\")"
   ]
  },
  {
   "cell_type": "code",
   "execution_count": 68,
   "metadata": {},
   "outputs": [],
   "source": [
    "full_data = pd.read_csv(\"topic_modeling.csv\")"
   ]
  },
  {
   "cell_type": "code",
   "execution_count": 69,
   "metadata": {},
   "outputs": [
    {
     "data": {
      "text/html": [
       "<div>\n",
       "<style scoped>\n",
       "    .dataframe tbody tr th:only-of-type {\n",
       "        vertical-align: middle;\n",
       "    }\n",
       "\n",
       "    .dataframe tbody tr th {\n",
       "        vertical-align: top;\n",
       "    }\n",
       "\n",
       "    .dataframe thead th {\n",
       "        text-align: right;\n",
       "    }\n",
       "</style>\n",
       "<table border=\"1\" class=\"dataframe\">\n",
       "  <thead>\n",
       "    <tr style=\"text-align: right;\">\n",
       "      <th></th>\n",
       "      <th>Date received</th>\n",
       "      <th>Product</th>\n",
       "      <th>Sub-product</th>\n",
       "      <th>Issue</th>\n",
       "      <th>Sub-issue</th>\n",
       "      <th>Consumer complaint narrative</th>\n",
       "      <th>Company public response</th>\n",
       "      <th>Company</th>\n",
       "      <th>State</th>\n",
       "      <th>ZIP code</th>\n",
       "      <th>Tags</th>\n",
       "      <th>Consumer consent provided?</th>\n",
       "      <th>Submitted via</th>\n",
       "      <th>Date sent to company</th>\n",
       "      <th>Company response to consumer</th>\n",
       "      <th>Timely response?</th>\n",
       "      <th>Consumer disputed?</th>\n",
       "      <th>Complaint ID</th>\n",
       "    </tr>\n",
       "  </thead>\n",
       "  <tbody>\n",
       "    <tr>\n",
       "      <th>0</th>\n",
       "      <td>03/12/2014</td>\n",
       "      <td>Mortgage</td>\n",
       "      <td>Other mortgage</td>\n",
       "      <td>Loan modification,collection,foreclosure</td>\n",
       "      <td>NaN</td>\n",
       "      <td>NaN</td>\n",
       "      <td>NaN</td>\n",
       "      <td>M&amp;T BANK CORPORATION</td>\n",
       "      <td>MI</td>\n",
       "      <td>48382</td>\n",
       "      <td>NaN</td>\n",
       "      <td>NaN</td>\n",
       "      <td>Referral</td>\n",
       "      <td>03/17/2014</td>\n",
       "      <td>Closed with explanation</td>\n",
       "      <td>Yes</td>\n",
       "      <td>No</td>\n",
       "      <td>759217</td>\n",
       "    </tr>\n",
       "    <tr>\n",
       "      <th>1</th>\n",
       "      <td>01/19/2017</td>\n",
       "      <td>Student loan</td>\n",
       "      <td>Federal student loan servicing</td>\n",
       "      <td>Dealing with my lender or servicer</td>\n",
       "      <td>Received bad information about my loan</td>\n",
       "      <td>When my loan was switched over to Navient i wa...</td>\n",
       "      <td>NaN</td>\n",
       "      <td>Navient Solutions, LLC.</td>\n",
       "      <td>LA</td>\n",
       "      <td>NaN</td>\n",
       "      <td>NaN</td>\n",
       "      <td>Consent provided</td>\n",
       "      <td>Web</td>\n",
       "      <td>01/19/2017</td>\n",
       "      <td>Closed with explanation</td>\n",
       "      <td>Yes</td>\n",
       "      <td>No</td>\n",
       "      <td>2296496</td>\n",
       "    </tr>\n",
       "    <tr>\n",
       "      <th>2</th>\n",
       "      <td>04/06/2018</td>\n",
       "      <td>Credit card or prepaid card</td>\n",
       "      <td>General-purpose credit card or charge card</td>\n",
       "      <td>Other features, terms, or problems</td>\n",
       "      <td>Other problem</td>\n",
       "      <td>I tried to sign up for a spending monitoring p...</td>\n",
       "      <td>NaN</td>\n",
       "      <td>CAPITAL ONE FINANCIAL CORPORATION</td>\n",
       "      <td>VA</td>\n",
       "      <td>NaN</td>\n",
       "      <td>Older American</td>\n",
       "      <td>Consent provided</td>\n",
       "      <td>Web</td>\n",
       "      <td>04/06/2018</td>\n",
       "      <td>Closed with explanation</td>\n",
       "      <td>Yes</td>\n",
       "      <td>NaN</td>\n",
       "      <td>2866101</td>\n",
       "    </tr>\n",
       "    <tr>\n",
       "      <th>3</th>\n",
       "      <td>06/08/2014</td>\n",
       "      <td>Credit card</td>\n",
       "      <td>NaN</td>\n",
       "      <td>Bankruptcy</td>\n",
       "      <td>NaN</td>\n",
       "      <td>NaN</td>\n",
       "      <td>NaN</td>\n",
       "      <td>AMERICAN EXPRESS COMPANY</td>\n",
       "      <td>ID</td>\n",
       "      <td>83854</td>\n",
       "      <td>Older American</td>\n",
       "      <td>NaN</td>\n",
       "      <td>Web</td>\n",
       "      <td>06/10/2014</td>\n",
       "      <td>Closed with explanation</td>\n",
       "      <td>Yes</td>\n",
       "      <td>Yes</td>\n",
       "      <td>885638</td>\n",
       "    </tr>\n",
       "    <tr>\n",
       "      <th>4</th>\n",
       "      <td>09/13/2014</td>\n",
       "      <td>Debt collection</td>\n",
       "      <td>Credit card</td>\n",
       "      <td>Communication tactics</td>\n",
       "      <td>Frequent or repeated calls</td>\n",
       "      <td>NaN</td>\n",
       "      <td>NaN</td>\n",
       "      <td>CITIBANK, N.A.</td>\n",
       "      <td>VA</td>\n",
       "      <td>23233</td>\n",
       "      <td>NaN</td>\n",
       "      <td>NaN</td>\n",
       "      <td>Web</td>\n",
       "      <td>09/13/2014</td>\n",
       "      <td>Closed with explanation</td>\n",
       "      <td>Yes</td>\n",
       "      <td>Yes</td>\n",
       "      <td>1027760</td>\n",
       "    </tr>\n",
       "  </tbody>\n",
       "</table>\n",
       "</div>"
      ],
      "text/plain": [
       "  Date received                      Product  \\\n",
       "0    03/12/2014                     Mortgage   \n",
       "1    01/19/2017                 Student loan   \n",
       "2    04/06/2018  Credit card or prepaid card   \n",
       "3    06/08/2014                  Credit card   \n",
       "4    09/13/2014              Debt collection   \n",
       "\n",
       "                                  Sub-product  \\\n",
       "0                              Other mortgage   \n",
       "1              Federal student loan servicing   \n",
       "2  General-purpose credit card or charge card   \n",
       "3                                         NaN   \n",
       "4                                 Credit card   \n",
       "\n",
       "                                      Issue  \\\n",
       "0  Loan modification,collection,foreclosure   \n",
       "1        Dealing with my lender or servicer   \n",
       "2        Other features, terms, or problems   \n",
       "3                                Bankruptcy   \n",
       "4                     Communication tactics   \n",
       "\n",
       "                                Sub-issue  \\\n",
       "0                                     NaN   \n",
       "1  Received bad information about my loan   \n",
       "2                           Other problem   \n",
       "3                                     NaN   \n",
       "4              Frequent or repeated calls   \n",
       "\n",
       "                        Consumer complaint narrative Company public response  \\\n",
       "0                                                NaN                     NaN   \n",
       "1  When my loan was switched over to Navient i wa...                     NaN   \n",
       "2  I tried to sign up for a spending monitoring p...                     NaN   \n",
       "3                                                NaN                     NaN   \n",
       "4                                                NaN                     NaN   \n",
       "\n",
       "                             Company State ZIP code            Tags  \\\n",
       "0               M&T BANK CORPORATION    MI    48382             NaN   \n",
       "1            Navient Solutions, LLC.    LA      NaN             NaN   \n",
       "2  CAPITAL ONE FINANCIAL CORPORATION    VA      NaN  Older American   \n",
       "3           AMERICAN EXPRESS COMPANY    ID    83854  Older American   \n",
       "4                     CITIBANK, N.A.    VA    23233             NaN   \n",
       "\n",
       "  Consumer consent provided? Submitted via Date sent to company  \\\n",
       "0                        NaN      Referral           03/17/2014   \n",
       "1           Consent provided           Web           01/19/2017   \n",
       "2           Consent provided           Web           04/06/2018   \n",
       "3                        NaN           Web           06/10/2014   \n",
       "4                        NaN           Web           09/13/2014   \n",
       "\n",
       "  Company response to consumer Timely response? Consumer disputed?  \\\n",
       "0      Closed with explanation              Yes                 No   \n",
       "1      Closed with explanation              Yes                 No   \n",
       "2      Closed with explanation              Yes                NaN   \n",
       "3      Closed with explanation              Yes                Yes   \n",
       "4      Closed with explanation              Yes                Yes   \n",
       "\n",
       "   Complaint ID  \n",
       "0        759217  \n",
       "1       2296496  \n",
       "2       2866101  \n",
       "3        885638  \n",
       "4       1027760  "
      ]
     },
     "execution_count": 69,
     "metadata": {},
     "output_type": "execute_result"
    }
   ],
   "source": [
    "full_data.head()"
   ]
  },
  {
   "cell_type": "code",
   "execution_count": 70,
   "metadata": {},
   "outputs": [
    {
     "name": "stderr",
     "output_type": "stream",
     "text": [
      "//anaconda3/lib/python3.7/site-packages/ipykernel_launcher.py:3: SettingWithCopyWarning: \n",
      "A value is trying to be set on a copy of a slice from a DataFrame\n",
      "\n",
      "See the caveats in the documentation: http://pandas.pydata.org/pandas-docs/stable/indexing.html#indexing-view-versus-copy\n",
      "  This is separate from the ipykernel package so we can avoid doing imports until\n"
     ]
    }
   ],
   "source": [
    "# Subsetting the dataframe to include the columns\n",
    "data = full_data[[\"Consumer complaint narrative\", \"Product\"]]\n",
    "data.dropna(inplace = True)"
   ]
  },
  {
   "cell_type": "code",
   "execution_count": 71,
   "metadata": {},
   "outputs": [
    {
     "data": {
      "text/html": [
       "<div>\n",
       "<style scoped>\n",
       "    .dataframe tbody tr th:only-of-type {\n",
       "        vertical-align: middle;\n",
       "    }\n",
       "\n",
       "    .dataframe tbody tr th {\n",
       "        vertical-align: top;\n",
       "    }\n",
       "\n",
       "    .dataframe thead th {\n",
       "        text-align: right;\n",
       "    }\n",
       "</style>\n",
       "<table border=\"1\" class=\"dataframe\">\n",
       "  <thead>\n",
       "    <tr style=\"text-align: right;\">\n",
       "      <th></th>\n",
       "      <th>Consumer complaint narrative</th>\n",
       "      <th>Product</th>\n",
       "    </tr>\n",
       "  </thead>\n",
       "  <tbody>\n",
       "    <tr>\n",
       "      <th>1</th>\n",
       "      <td>When my loan was switched over to Navient i wa...</td>\n",
       "      <td>Student loan</td>\n",
       "    </tr>\n",
       "    <tr>\n",
       "      <th>2</th>\n",
       "      <td>I tried to sign up for a spending monitoring p...</td>\n",
       "      <td>Credit card or prepaid card</td>\n",
       "    </tr>\n",
       "    <tr>\n",
       "      <th>7</th>\n",
       "      <td>My mortgage is with BB &amp; T Bank, recently I ha...</td>\n",
       "      <td>Mortgage</td>\n",
       "    </tr>\n",
       "    <tr>\n",
       "      <th>13</th>\n",
       "      <td>The entire lending experience with Citizens Ba...</td>\n",
       "      <td>Mortgage</td>\n",
       "    </tr>\n",
       "    <tr>\n",
       "      <th>14</th>\n",
       "      <td>My credit score has gone down XXXX points in t...</td>\n",
       "      <td>Credit reporting</td>\n",
       "    </tr>\n",
       "  </tbody>\n",
       "</table>\n",
       "</div>"
      ],
      "text/plain": [
       "                         Consumer complaint narrative  \\\n",
       "1   When my loan was switched over to Navient i wa...   \n",
       "2   I tried to sign up for a spending monitoring p...   \n",
       "7   My mortgage is with BB & T Bank, recently I ha...   \n",
       "13  The entire lending experience with Citizens Ba...   \n",
       "14  My credit score has gone down XXXX points in t...   \n",
       "\n",
       "                        Product  \n",
       "1                  Student loan  \n",
       "2   Credit card or prepaid card  \n",
       "7                      Mortgage  \n",
       "13                     Mortgage  \n",
       "14             Credit reporting  "
      ]
     },
     "execution_count": 71,
     "metadata": {},
     "output_type": "execute_result"
    }
   ],
   "source": [
    "data.head()"
   ]
  },
  {
   "cell_type": "code",
   "execution_count": 72,
   "metadata": {},
   "outputs": [],
   "source": [
    "# Renaming the columns\n",
    "data.columns = [\"X\",\"y\"]"
   ]
  },
  {
   "cell_type": "code",
   "execution_count": 73,
   "metadata": {},
   "outputs": [
    {
     "data": {
      "text/plain": [
       "'When my loan was switched over to Navient i was never told that i had a deliquint balance because with XXXX i did not. When going to purchase a vehicle i discovered my credit score had been dropped from the XXXX into the XXXX. I have been faithful at paying my student loan. I was told that Navient was the company i had delinquency with. I contacted Navient to resolve this issue you and kept being told to just contact the credit bureaus and expalin the situation and maybe they could help me. I was so angry that i just hurried and paid the balance off and then after tried to dispute the delinquency with the credit bureaus. I have had so much trouble bringing my credit score back up.'"
      ]
     },
     "execution_count": 73,
     "metadata": {},
     "output_type": "execute_result"
    }
   ],
   "source": [
    "data[\"X\"][1]"
   ]
  },
  {
   "cell_type": "code",
   "execution_count": 74,
   "metadata": {},
   "outputs": [],
   "source": [
    "import nltk\n",
    "from nltk.corpus import stopwords\n",
    "from nltk.stem import WordNetLemmatizer\n",
    "from string import punctuation\n",
    "from nltk.tokenize import word_tokenize\n",
    "from collections import Counter\n",
    "import operator"
   ]
  },
  {
   "cell_type": "code",
   "execution_count": 75,
   "metadata": {},
   "outputs": [],
   "source": [
    "stopwords_set = set(stopwords.words('english'))\n",
    "stopwords_set.add('xxxx')\n",
    "custom = list(stopwords_set)+list(punctuation)+['``', \"'s\", \"...\", \"n't\"]"
   ]
  },
  {
   "cell_type": "code",
   "execution_count": 76,
   "metadata": {},
   "outputs": [],
   "source": [
    "# Storing first five complaints\n",
    "first_five_complaints = data.iloc[0:5,:]\n",
    "BoW = list(first_five_complaints[\"X\"].str.lower())"
   ]
  },
  {
   "cell_type": "code",
   "execution_count": 77,
   "metadata": {},
   "outputs": [
    {
     "data": {
      "text/plain": [
       "['when my loan was switched over to navient i was never told that i had a deliquint balance because with xxxx i did not. when going to purchase a vehicle i discovered my credit score had been dropped from the xxxx into the xxxx. i have been faithful at paying my student loan. i was told that navient was the company i had delinquency with. i contacted navient to resolve this issue you and kept being told to just contact the credit bureaus and expalin the situation and maybe they could help me. i was so angry that i just hurried and paid the balance off and then after tried to dispute the delinquency with the credit bureaus. i have had so much trouble bringing my credit score back up.',\n",
       " 'i tried to sign up for a spending monitoring program and capital one will not let me access my account through them',\n",
       " 'my mortgage is with bb & t bank, recently i have been investigating ways to pay down my mortgage faster and i came across biweekly mortgage calculator on bb & t \\'s website. it\\'s a nice, easy to use calculator that you plug in your interest rate, mortgage amount, mortgage term, and payment type and it calculates your accelerated bi-weekly payment for you and shows you how much quicker you can pay down your loan. ours figured out to pay off a 30 year mortgage in 26.4 years ... quite a savings! \\r\\ni called bb & t \\'s customer service number to inquire how i get set up on this payment plan. i was told they do not offer that type of payment plan, but i could send in my payments bi-weekly but it would not be applied until the full amount was received. ( the money would sit in a \" holding account \\'\\' until the full payment amount was collected ). i ended up calling back a few days later thinking the rep i was talking to didn\\'t understand what i wanted to do or was not knowledgeable of this program. i got the same answer! \\r\\ni then asked for the corporate bb & t office number where i could speak to someone that was knowledgeable of this product. after 3 days i received a phone call back from a corporate manager stating they do not offer this product, and they were \" checking into why this is on their website \\'\\'. she stated they do have a few customers that make bi-weekly payments, but they no longer offer this service. \\r\\ni don\\'t understand how they can have this active link on their website under their financial planning center tab to mislead customers when all they say is \" i\\'m sorry, i know you\\'re upset about this \\'\\' sounds like false advertising to me! \\r\\nhttps : //www.bbt.com/xxxx',\n",
       " 'the entire lending experience with citizens bank was terrible. the lender kept pushing a xxxx arm, which we had considered initially but decided to go with a 30yr fixed. when we received the closing disclosure, it was a xxxx arm, we immediately requested that it be corrected to the 30yr fixed we decided upon but they kept delaying and saying it was changed but would n\\'t send it to us. they waited until the next day and then tried to convince us to waive our rights so it would n\\'t push the closing date due to the 3 day clock reset. this seemed very intentional, like it was something they often do, because they sent us an email instructing us to draft a letter : -- -- from the loan officer : i have outlined the basis of the letter in this email. please elaborate on why you wanted the product changed and make sure to include your contact information at the bottom as they will need this. \\r\\n\" to whom it may concern, this letter is to waive my right to review the new closing disclosure 3 business days prior to closing. i must close on the property at ( property address ) or i face financial hardship in the form of losing my earnest money deposit and property falling through. i must close on this property on xxxx. there is substantial expense associated with my drive and move to ( property address ) and require this property so i may begin ( new job ) on time. \\r\\n\\r\\nin addition this letter is to address the change in rate and product. this was done at my request, i requested a 30 year fixed rate loan that increased my rate to ( % ) and increased my apr. i decided that the 30 year fixed was a safe option to avoid the market causing my arm rate to increase. i felt as though the difference in payment monthly was worth the security of having a fixed rate and knowing the rate could not increase. i am fully aware that the rate and apr increased and am fully aware of the difference in monthly payment however i still wish to go with the 30 year fixed and need to close on xxxx. \\r\\n\\r\\nmy contact information is below and should anyone have any questions please do not hesitate to reach out to me. i look forward to closing my loan. \\'\\' please make sure to physically sign and date this at the bottom and send back so we can close on time. thanks -- -- we responded with this : \" we do n\\'t feel comfortable moving forward by waving our rights to review a closing disclosure. we would like to receive the corrected closing disclosure for the 30yr fixed including the corrected deposit amount and we understand that this will reset the clock. we would really appreciate it if this could be done tonight since our closing date has already been pushed more than expected. \" they finally sent us the correct closing disclosure. \\r\\n\\r\\non several occasions we asked about having to open a checking account and were told we would have the opportunity to later if we desired but there would be no discount for having an account. we decided we did n\\'t need one, during closing we set up our mortgage payments to come directly out of our primary bank account with another institution. \\r\\n\\r\\non xxxx xxxx we received an email stating a form was to be signed that was forgotten during closing. the form was dated xxxx xxxx and was an ach for a direct debit of the mortgage payment from a bank account with citizens bank. we said we were not going to sign it, we had already set up payments from our bank and signed an ach form, and this form was not \" forgotten \\'\\' at closing. the form had an account number on it, we asked how they could have an account number if we do n\\'t even have a citizens bank account ... .it turns out they opened checking, savings and credit line accounts in my husband \\'s name without our authorization, they even charged the credit line for the opening deposit into the checking account all without any authorization or signatures! we are still fighting to get them properly closed.',\n",
       " \"my credit score has gone down xxxx points in the last month - from the xxxx 's to the xxxx 's. i requested and reviewed reports from all xxxx credit reporting agencies and i can not find a significant reason for the significant decrease in my score. please help me.\"]"
      ]
     },
     "execution_count": 77,
     "metadata": {},
     "output_type": "execute_result"
    }
   ],
   "source": [
    "BoW"
   ]
  },
  {
   "cell_type": "code",
   "execution_count": 78,
   "metadata": {},
   "outputs": [],
   "source": [
    "BoW = [word_tokenize(i) for i in BoW]\n",
    "BoW = [item for sublist in BoW for item in sublist]"
   ]
  },
  {
   "cell_type": "code",
   "execution_count": 79,
   "metadata": {},
   "outputs": [
    {
     "name": "stdout",
     "output_type": "stream",
     "text": [
      "['when', 'my', 'loan', 'was', 'switched', 'over', 'to', 'navient', 'i', 'was', 'never', 'told', 'that', 'i', 'had', 'a', 'deliquint', 'balance', 'because', 'with', 'xxxx', 'i', 'did', 'not', '.', 'when', 'going', 'to', 'purchase', 'a', 'vehicle', 'i', 'discovered', 'my', 'credit', 'score', 'had', 'been', 'dropped', 'from', 'the', 'xxxx', 'into', 'the', 'xxxx', '.', 'i', 'have', 'been', 'faithful', 'at', 'paying', 'my', 'student', 'loan', '.', 'i', 'was', 'told', 'that', 'navient', 'was', 'the', 'company', 'i', 'had', 'delinquency', 'with', '.', 'i', 'contacted', 'navient', 'to', 'resolve', 'this', 'issue', 'you', 'and', 'kept', 'being', 'told', 'to', 'just', 'contact', 'the', 'credit', 'bureaus', 'and', 'expalin', 'the', 'situation', 'and', 'maybe', 'they', 'could', 'help', 'me', '.', 'i', 'was', 'so', 'angry', 'that', 'i', 'just', 'hurried', 'and', 'paid', 'the', 'balance', 'off', 'and', 'then', 'after', 'tried', 'to', 'dispute', 'the', 'delinquency', 'with', 'the', 'credit', 'bureaus', '.', 'i', 'have', 'had', 'so', 'much', 'trouble', 'bringing', 'my', 'credit', 'score', 'back', 'up', '.', 'i', 'tried', 'to', 'sign', 'up', 'for', 'a', 'spending', 'monitoring', 'program', 'and', 'capital', 'one', 'will', 'not', 'let', 'me', 'access', 'my', 'account', 'through', 'them', 'my', 'mortgage', 'is', 'with', 'bb', '&', 't', 'bank', ',', 'recently', 'i', 'have', 'been', 'investigating', 'ways', 'to', 'pay', 'down', 'my', 'mortgage', 'faster', 'and', 'i', 'came', 'across', 'biweekly', 'mortgage', 'calculator', 'on', 'bb', '&', 't', \"'s\", 'website', '.', 'it', \"'s\", 'a', 'nice', ',', 'easy', 'to', 'use', 'calculator', 'that', 'you', 'plug', 'in', 'your', 'interest', 'rate', ',', 'mortgage', 'amount', ',', 'mortgage', 'term', ',', 'and', 'payment', 'type', 'and', 'it', 'calculates', 'your', 'accelerated', 'bi-weekly', 'payment', 'for', 'you', 'and', 'shows', 'you', 'how', 'much', 'quicker', 'you', 'can', 'pay', 'down', 'your', 'loan', '.', 'ours', 'figured', 'out', 'to', 'pay', 'off', 'a', '30', 'year', 'mortgage', 'in', '26.4', 'years', '...', 'quite', 'a', 'savings', '!', 'i', 'called', 'bb', '&', 't', \"'s\", 'customer', 'service', 'number', 'to', 'inquire', 'how', 'i', 'get', 'set', 'up', 'on', 'this', 'payment', 'plan', '.', 'i', 'was', 'told', 'they', 'do', 'not', 'offer', 'that', 'type', 'of', 'payment', 'plan', ',', 'but', 'i', 'could', 'send', 'in', 'my', 'payments', 'bi-weekly', 'but', 'it', 'would', 'not', 'be', 'applied', 'until', 'the', 'full', 'amount', 'was', 'received', '.', '(', 'the', 'money', 'would', 'sit', 'in', 'a', '``', 'holding', 'account', '``', 'until', 'the', 'full', 'payment', 'amount', 'was', 'collected', ')', '.', 'i', 'ended', 'up', 'calling', 'back', 'a', 'few', 'days', 'later', 'thinking', 'the', 'rep', 'i', 'was', 'talking', 'to', 'did', \"n't\", 'understand', 'what', 'i', 'wanted', 'to', 'do', 'or', 'was', 'not', 'knowledgeable', 'of', 'this', 'program', '.', 'i', 'got', 'the', 'same', 'answer', '!', 'i', 'then', 'asked', 'for', 'the', 'corporate', 'bb', '&', 't', 'office', 'number', 'where', 'i', 'could', 'speak', 'to', 'someone', 'that', 'was', 'knowledgeable', 'of', 'this', 'product', '.', 'after', '3', 'days', 'i', 'received', 'a', 'phone', 'call', 'back', 'from', 'a', 'corporate', 'manager', 'stating', 'they', 'do', 'not', 'offer', 'this', 'product', ',', 'and', 'they', 'were', '``', 'checking', 'into', 'why', 'this', 'is', 'on', 'their', 'website', '``', '.', 'she', 'stated', 'they', 'do', 'have', 'a', 'few', 'customers', 'that', 'make', 'bi-weekly', 'payments', ',', 'but', 'they', 'no', 'longer', 'offer', 'this', 'service', '.', 'i', 'do', \"n't\", 'understand', 'how', 'they', 'can', 'have', 'this', 'active', 'link', 'on', 'their', 'website', 'under', 'their', 'financial', 'planning', 'center', 'tab', 'to', 'mislead', 'customers', 'when', 'all', 'they', 'say', 'is', '``', 'i', \"'m\", 'sorry', ',', 'i', 'know', 'you', \"'re\", 'upset', 'about', 'this', '``', 'sounds', 'like', 'false', 'advertising', 'to', 'me', '!', 'https', ':', '//www.bbt.com/xxxx', 'the', 'entire', 'lending', 'experience', 'with', 'citizens', 'bank', 'was', 'terrible', '.', 'the', 'lender', 'kept', 'pushing', 'a', 'xxxx', 'arm', ',', 'which', 'we', 'had', 'considered', 'initially', 'but', 'decided', 'to', 'go', 'with', 'a', '30yr', 'fixed', '.', 'when', 'we', 'received', 'the', 'closing', 'disclosure', ',', 'it', 'was', 'a', 'xxxx', 'arm', ',', 'we', 'immediately', 'requested', 'that', 'it', 'be', 'corrected', 'to', 'the', '30yr', 'fixed', 'we', 'decided', 'upon', 'but', 'they', 'kept', 'delaying', 'and', 'saying', 'it', 'was', 'changed', 'but', 'would', \"n't\", 'send', 'it', 'to', 'us', '.', 'they', 'waited', 'until', 'the', 'next', 'day', 'and', 'then', 'tried', 'to', 'convince', 'us', 'to', 'waive', 'our', 'rights', 'so', 'it', 'would', \"n't\", 'push', 'the', 'closing', 'date', 'due', 'to', 'the', '3', 'day', 'clock', 'reset', '.', 'this', 'seemed', 'very', 'intentional', ',', 'like', 'it', 'was', 'something', 'they', 'often', 'do', ',', 'because', 'they', 'sent', 'us', 'an', 'email', 'instructing', 'us', 'to', 'draft', 'a', 'letter', ':', '--', '--', 'from', 'the', 'loan', 'officer', ':', 'i', 'have', 'outlined', 'the', 'basis', 'of', 'the', 'letter', 'in', 'this', 'email', '.', 'please', 'elaborate', 'on', 'why', 'you', 'wanted', 'the', 'product', 'changed', 'and', 'make', 'sure', 'to', 'include', 'your', 'contact', 'information', 'at', 'the', 'bottom', 'as', 'they', 'will', 'need', 'this.', \"''\", 'to', 'whom', 'it', 'may', 'concern', ',', 'this', 'letter', 'is', 'to', 'waive', 'my', 'right', 'to', 'review', 'the', 'new', 'closing', 'disclosure', '3', 'business', 'days', 'prior', 'to', 'closing', '.', 'i', 'must', 'close', 'on', 'the', 'property', 'at', '(', 'property', 'address', ')', 'or', 'i', 'face', 'financial', 'hardship', 'in', 'the', 'form', 'of', 'losing', 'my', 'earnest', 'money', 'deposit', 'and', 'property', 'falling', 'through', '.', 'i', 'must', 'close', 'on', 'this', 'property', 'on', 'xxxx', '.', 'there', 'is', 'substantial', 'expense', 'associated', 'with', 'my', 'drive', 'and', 'move', 'to', '(', 'property', 'address', ')', 'and', 'require', 'this', 'property', 'so', 'i', 'may', 'begin', '(', 'new', 'job', ')', 'on', 'time', '.', 'in', 'addition', 'this', 'letter', 'is', 'to', 'address', 'the', 'change', 'in', 'rate', 'and', 'product', '.', 'this', 'was', 'done', 'at', 'my', 'request', ',', 'i', 'requested', 'a', '30', 'year', 'fixed', 'rate', 'loan', 'that', 'increased', 'my', 'rate', 'to', '(', '%', ')', 'and', 'increased', 'my', 'apr', '.', 'i', 'decided', 'that', 'the', '30', 'year', 'fixed', 'was', 'a', 'safe', 'option', 'to', 'avoid', 'the', 'market', 'causing', 'my', 'arm', 'rate', 'to', 'increase', '.', 'i', 'felt', 'as', 'though', 'the', 'difference', 'in', 'payment', 'monthly', 'was', 'worth', 'the', 'security', 'of', 'having', 'a', 'fixed', 'rate', 'and', 'knowing', 'the', 'rate', 'could', 'not', 'increase', '.', 'i', 'am', 'fully', 'aware', 'that', 'the', 'rate', 'and', 'apr', 'increased', 'and', 'am', 'fully', 'aware', 'of', 'the', 'difference', 'in', 'monthly', 'payment', 'however', 'i', 'still', 'wish', 'to', 'go', 'with', 'the', '30', 'year', 'fixed', 'and', 'need', 'to', 'close', 'on', 'xxxx', '.', 'my', 'contact', 'information', 'is', 'below', 'and', 'should', 'anyone', 'have', 'any', 'questions', 'please', 'do', 'not', 'hesitate', 'to', 'reach', 'out', 'to', 'me', '.', 'i', 'look', 'forward', 'to', 'closing', 'my', 'loan.', '``', 'please', 'make', 'sure', 'to', 'physically', 'sign', 'and', 'date', 'this', 'at', 'the', 'bottom', 'and', 'send', 'back', 'so', 'we', 'can', 'close', 'on', 'time', '.', 'thanks', '--', '--', 'we', 'responded', 'with', 'this', ':', '``', 'we', 'do', \"n't\", 'feel', 'comfortable', 'moving', 'forward', 'by', 'waving', 'our', 'rights', 'to', 'review', 'a', 'closing', 'disclosure', '.', 'we', 'would', 'like', 'to', 'receive', 'the', 'corrected', 'closing', 'disclosure', 'for', 'the', '30yr', 'fixed', 'including', 'the', 'corrected', 'deposit', 'amount', 'and', 'we', 'understand', 'that', 'this', 'will', 'reset', 'the', 'clock', '.', 'we', 'would', 'really', 'appreciate', 'it', 'if', 'this', 'could', 'be', 'done', 'tonight', 'since', 'our', 'closing', 'date', 'has', 'already', 'been', 'pushed', 'more', 'than', 'expected.', '``', 'they', 'finally', 'sent', 'us', 'the', 'correct', 'closing', 'disclosure', '.', 'on', 'several', 'occasions', 'we', 'asked', 'about', 'having', 'to', 'open', 'a', 'checking', 'account', 'and', 'were', 'told', 'we', 'would', 'have', 'the', 'opportunity', 'to', 'later', 'if', 'we', 'desired', 'but', 'there', 'would', 'be', 'no', 'discount', 'for', 'having', 'an', 'account', '.', 'we', 'decided', 'we', 'did', \"n't\", 'need', 'one', ',', 'during', 'closing', 'we', 'set', 'up', 'our', 'mortgage', 'payments', 'to', 'come', 'directly', 'out', 'of', 'our', 'primary', 'bank', 'account', 'with', 'another', 'institution', '.', 'on', 'xxxx', 'xxxx', 'we', 'received', 'an', 'email', 'stating', 'a', 'form', 'was', 'to', 'be', 'signed', 'that', 'was', 'forgotten', 'during', 'closing', '.', 'the', 'form', 'was', 'dated', 'xxxx', 'xxxx', 'and', 'was', 'an', 'ach', 'for', 'a', 'direct', 'debit', 'of', 'the', 'mortgage', 'payment', 'from', 'a', 'bank', 'account', 'with', 'citizens', 'bank', '.', 'we', 'said', 'we', 'were', 'not', 'going', 'to', 'sign', 'it', ',', 'we', 'had', 'already', 'set', 'up', 'payments', 'from', 'our', 'bank', 'and', 'signed', 'an', 'ach', 'form', ',', 'and', 'this', 'form', 'was', 'not', '``', 'forgotten', '``', 'at', 'closing', '.', 'the', 'form', 'had', 'an', 'account', 'number', 'on', 'it', ',', 'we', 'asked', 'how', 'they', 'could', 'have', 'an', 'account', 'number', 'if', 'we', 'do', \"n't\", 'even', 'have', 'a', 'citizens', 'bank', 'account', '...', '.it', 'turns', 'out', 'they', 'opened', 'checking', ',', 'savings', 'and', 'credit', 'line', 'accounts', 'in', 'my', 'husband', \"'s\", 'name', 'without', 'our', 'authorization', ',', 'they', 'even', 'charged', 'the', 'credit', 'line', 'for', 'the', 'opening', 'deposit', 'into', 'the', 'checking', 'account', 'all', 'without', 'any', 'authorization', 'or', 'signatures', '!', 'we', 'are', 'still', 'fighting', 'to', 'get', 'them', 'properly', 'closed', '.', 'my', 'credit', 'score', 'has', 'gone', 'down', 'xxxx', 'points', 'in', 'the', 'last', 'month', '-', 'from', 'the', 'xxxx', \"'s\", 'to', 'the', 'xxxx', \"'s\", '.', 'i', 'requested', 'and', 'reviewed', 'reports', 'from', 'all', 'xxxx', 'credit', 'reporting', 'agencies', 'and', 'i', 'can', 'not', 'find', 'a', 'significant', 'reason', 'for', 'the', 'significant', 'decrease', 'in', 'my', 'score', '.', 'please', 'help', 'me', '.']\n"
     ]
    }
   ],
   "source": [
    "print(BoW)"
   ]
  },
  {
   "cell_type": "code",
   "execution_count": 80,
   "metadata": {},
   "outputs": [],
   "source": [
    "# Tokenizing the words\n",
    "BoW = [x for x in BoW if x not in custom]"
   ]
  },
  {
   "cell_type": "code",
   "execution_count": 81,
   "metadata": {},
   "outputs": [
    {
     "name": "stdout",
     "output_type": "stream",
     "text": [
      "['loan', 'switched', 'navient', 'never', 'told', 'deliquint', 'balance', 'going', 'purchase', 'vehicle', 'discovered', 'credit', 'score', 'dropped', 'faithful', 'paying', 'student', 'loan', 'told', 'navient', 'company', 'delinquency', 'contacted', 'navient', 'resolve', 'issue', 'kept', 'told', 'contact', 'credit', 'bureaus', 'expalin', 'situation', 'maybe', 'could', 'help', 'angry', 'hurried', 'paid', 'balance', 'tried', 'dispute', 'delinquency', 'credit', 'bureaus', 'much', 'trouble', 'bringing', 'credit', 'score', 'back', 'tried', 'sign', 'spending', 'monitoring', 'program', 'capital', 'one', 'let', 'access', 'account', 'mortgage', 'bb', 'bank', 'recently', 'investigating', 'ways', 'pay', 'mortgage', 'faster', 'came', 'across', 'biweekly', 'mortgage', 'calculator', 'bb', 'website', 'nice', 'easy', 'use', 'calculator', 'plug', 'interest', 'rate', 'mortgage', 'amount', 'mortgage', 'term', 'payment', 'type', 'calculates', 'accelerated', 'bi-weekly', 'payment', 'shows', 'much', 'quicker', 'pay', 'loan', 'figured', 'pay', '30', 'year', 'mortgage', '26.4', 'years', 'quite', 'savings', 'called', 'bb', 'customer', 'service', 'number', 'inquire', 'get', 'set', 'payment', 'plan', 'told', 'offer', 'type', 'payment', 'plan', 'could', 'send', 'payments', 'bi-weekly', 'would', 'applied', 'full', 'amount', 'received', 'money', 'would', 'sit', 'holding', 'account', 'full', 'payment', 'amount', 'collected', 'ended', 'calling', 'back', 'days', 'later', 'thinking', 'rep', 'talking', 'understand', 'wanted', 'knowledgeable', 'program', 'got', 'answer', 'asked', 'corporate', 'bb', 'office', 'number', 'could', 'speak', 'someone', 'knowledgeable', 'product', '3', 'days', 'received', 'phone', 'call', 'back', 'corporate', 'manager', 'stating', 'offer', 'product', 'checking', 'website', 'stated', 'customers', 'make', 'bi-weekly', 'payments', 'longer', 'offer', 'service', 'understand', 'active', 'link', 'website', 'financial', 'planning', 'center', 'tab', 'mislead', 'customers', 'say', \"'m\", 'sorry', 'know', \"'re\", 'upset', 'sounds', 'like', 'false', 'advertising', 'https', '//www.bbt.com/xxxx', 'entire', 'lending', 'experience', 'citizens', 'bank', 'terrible', 'lender', 'kept', 'pushing', 'arm', 'considered', 'initially', 'decided', 'go', '30yr', 'fixed', 'received', 'closing', 'disclosure', 'arm', 'immediately', 'requested', 'corrected', '30yr', 'fixed', 'decided', 'upon', 'kept', 'delaying', 'saying', 'changed', 'would', 'send', 'us', 'waited', 'next', 'day', 'tried', 'convince', 'us', 'waive', 'rights', 'would', 'push', 'closing', 'date', 'due', '3', 'day', 'clock', 'reset', 'seemed', 'intentional', 'like', 'something', 'often', 'sent', 'us', 'email', 'instructing', 'us', 'draft', 'letter', '--', '--', 'loan', 'officer', 'outlined', 'basis', 'letter', 'email', 'please', 'elaborate', 'wanted', 'product', 'changed', 'make', 'sure', 'include', 'contact', 'information', 'bottom', 'need', 'this.', \"''\", 'may', 'concern', 'letter', 'waive', 'right', 'review', 'new', 'closing', 'disclosure', '3', 'business', 'days', 'prior', 'closing', 'must', 'close', 'property', 'property', 'address', 'face', 'financial', 'hardship', 'form', 'losing', 'earnest', 'money', 'deposit', 'property', 'falling', 'must', 'close', 'property', 'substantial', 'expense', 'associated', 'drive', 'move', 'property', 'address', 'require', 'property', 'may', 'begin', 'new', 'job', 'time', 'addition', 'letter', 'address', 'change', 'rate', 'product', 'done', 'request', 'requested', '30', 'year', 'fixed', 'rate', 'loan', 'increased', 'rate', 'increased', 'apr', 'decided', '30', 'year', 'fixed', 'safe', 'option', 'avoid', 'market', 'causing', 'arm', 'rate', 'increase', 'felt', 'though', 'difference', 'payment', 'monthly', 'worth', 'security', 'fixed', 'rate', 'knowing', 'rate', 'could', 'increase', 'fully', 'aware', 'rate', 'apr', 'increased', 'fully', 'aware', 'difference', 'monthly', 'payment', 'however', 'still', 'wish', 'go', '30', 'year', 'fixed', 'need', 'close', 'contact', 'information', 'anyone', 'questions', 'please', 'hesitate', 'reach', 'look', 'forward', 'closing', 'loan.', 'please', 'make', 'sure', 'physically', 'sign', 'date', 'bottom', 'send', 'back', 'close', 'time', 'thanks', '--', '--', 'responded', 'feel', 'comfortable', 'moving', 'forward', 'waving', 'rights', 'review', 'closing', 'disclosure', 'would', 'like', 'receive', 'corrected', 'closing', 'disclosure', '30yr', 'fixed', 'including', 'corrected', 'deposit', 'amount', 'understand', 'reset', 'clock', 'would', 'really', 'appreciate', 'could', 'done', 'tonight', 'since', 'closing', 'date', 'already', 'pushed', 'expected.', 'finally', 'sent', 'us', 'correct', 'closing', 'disclosure', 'several', 'occasions', 'asked', 'open', 'checking', 'account', 'told', 'would', 'opportunity', 'later', 'desired', 'would', 'discount', 'account', 'decided', 'need', 'one', 'closing', 'set', 'mortgage', 'payments', 'come', 'directly', 'primary', 'bank', 'account', 'another', 'institution', 'received', 'email', 'stating', 'form', 'signed', 'forgotten', 'closing', 'form', 'dated', 'ach', 'direct', 'debit', 'mortgage', 'payment', 'bank', 'account', 'citizens', 'bank', 'said', 'going', 'sign', 'already', 'set', 'payments', 'bank', 'signed', 'ach', 'form', 'form', 'forgotten', 'closing', 'form', 'account', 'number', 'asked', 'could', 'account', 'number', 'even', 'citizens', 'bank', 'account', '.it', 'turns', 'opened', 'checking', 'savings', 'credit', 'line', 'accounts', 'husband', 'name', 'without', 'authorization', 'even', 'charged', 'credit', 'line', 'opening', 'deposit', 'checking', 'account', 'without', 'authorization', 'signatures', 'still', 'fighting', 'get', 'properly', 'closed', 'credit', 'score', 'gone', 'points', 'last', 'month', 'requested', 'reviewed', 'reports', 'credit', 'reporting', 'agencies', 'find', 'significant', 'reason', 'significant', 'decrease', 'score', 'please', 'help']\n"
     ]
    }
   ],
   "source": [
    "print(BoW)"
   ]
  },
  {
   "cell_type": "code",
   "execution_count": 82,
   "metadata": {},
   "outputs": [
    {
     "name": "stderr",
     "output_type": "stream",
     "text": [
      "[nltk_data] Downloading package wordnet to\n",
      "[nltk_data]     /Users/akankshamishra/nltk_data...\n",
      "[nltk_data]   Package wordnet is already up-to-date!\n"
     ]
    },
    {
     "data": {
      "text/plain": [
       "True"
      ]
     },
     "execution_count": 82,
     "metadata": {},
     "output_type": "execute_result"
    }
   ],
   "source": [
    "nltk.download('wordnet')"
   ]
  },
  {
   "cell_type": "code",
   "execution_count": 83,
   "metadata": {},
   "outputs": [],
   "source": [
    "# Initializing wordnet lemmatizer\n",
    "lemmatizer = WordNetLemmatizer()"
   ]
  },
  {
   "cell_type": "code",
   "execution_count": null,
   "metadata": {},
   "outputs": [],
   "source": []
  },
  {
   "cell_type": "code",
   "execution_count": 84,
   "metadata": {},
   "outputs": [],
   "source": [
    "# Lemmatizing the bag of words\n",
    "BoW = [lemmatizer.lemmatize(i) for i in BoW]"
   ]
  },
  {
   "cell_type": "code",
   "execution_count": 85,
   "metadata": {},
   "outputs": [
    {
     "name": "stdout",
     "output_type": "stream",
     "text": [
      "[('payment', 12), ('closing', 12), ('account', 11), ('credit', 8), ('mortgage', 8), ('rate', 8), ('would', 8), ('bank', 7), ('fixed', 7), ('could', 6), ('property', 6), ('form', 6), ('loan', 5), ('told', 5), ('year', 5), ('day', 5), ('disclosure', 5), ('u', 5), ('score', 4), ('back', 4), ('bb', 4), ('amount', 4), ('30', 4), ('number', 4), ('received', 4), ('product', 4), ('checking', 4), ('decided', 4), ('letter', 4), ('--', 4), ('please', 4), ('close', 4), ('navient', 3), ('kept', 3), ('contact', 3), ('tried', 3), ('sign', 3), ('pay', 3), ('website', 3), ('bi-weekly', 3), ('customer', 3), ('set', 3), ('offer', 3), ('send', 3), ('understand', 3), ('asked', 3), ('3', 3), ('make', 3), ('like', 3), ('citizen', 3), ('arm', 3), ('30yr', 3), ('requested', 3), ('corrected', 3), ('right', 3), ('date', 3), ('email', 3), ('need', 3), ('address', 3), ('deposit', 3), ('increased', 3), ('balance', 2), ('going', 2), ('delinquency', 2), ('bureau', 2), ('help', 2), ('much', 2), ('program', 2), ('one', 2), ('calculator', 2), ('type', 2), ('saving', 2), ('service', 2), ('get', 2), ('plan', 2), ('full', 2), ('money', 2), ('later', 2), ('wanted', 2), ('knowledgeable', 2), ('corporate', 2), ('stating', 2), ('financial', 2), ('go', 2), ('changed', 2), ('waive', 2), ('clock', 2), ('reset', 2), ('sent', 2), ('sure', 2), ('information', 2), ('bottom', 2), ('may', 2), ('review', 2), ('new', 2), ('must', 2), ('time', 2), ('done', 2), ('apr', 2), ('increase', 2), ('difference', 2), ('monthly', 2), ('fully', 2), ('aware', 2), ('still', 2), ('forward', 2), ('already', 2), ('signed', 2), ('forgotten', 2), ('ach', 2), ('even', 2), ('line', 2), ('without', 2), ('authorization', 2), ('significant', 2), ('switched', 1), ('never', 1), ('deliquint', 1), ('purchase', 1), ('vehicle', 1), ('discovered', 1), ('dropped', 1), ('faithful', 1), ('paying', 1), ('student', 1), ('company', 1), ('contacted', 1), ('resolve', 1), ('issue', 1), ('expalin', 1), ('situation', 1), ('maybe', 1), ('angry', 1), ('hurried', 1), ('paid', 1), ('dispute', 1), ('trouble', 1), ('bringing', 1), ('spending', 1), ('monitoring', 1), ('capital', 1), ('let', 1), ('access', 1), ('recently', 1), ('investigating', 1), ('way', 1), ('faster', 1), ('came', 1), ('across', 1), ('biweekly', 1), ('nice', 1), ('easy', 1), ('use', 1), ('plug', 1), ('interest', 1), ('term', 1), ('calculates', 1), ('accelerated', 1), ('show', 1), ('quicker', 1), ('figured', 1), ('26.4', 1), ('quite', 1), ('called', 1), ('inquire', 1), ('applied', 1), ('sit', 1), ('holding', 1), ('collected', 1), ('ended', 1), ('calling', 1), ('thinking', 1), ('rep', 1), ('talking', 1), ('got', 1), ('answer', 1), ('office', 1), ('speak', 1), ('someone', 1), ('phone', 1), ('call', 1), ('manager', 1), ('stated', 1), ('longer', 1), ('active', 1), ('link', 1), ('planning', 1), ('center', 1), ('tab', 1), ('mislead', 1), ('say', 1), (\"'m\", 1), ('sorry', 1), ('know', 1), (\"'re\", 1), ('upset', 1), ('sound', 1), ('false', 1), ('advertising', 1), ('http', 1), ('//www.bbt.com/xxxx', 1), ('entire', 1), ('lending', 1), ('experience', 1), ('terrible', 1), ('lender', 1), ('pushing', 1), ('considered', 1), ('initially', 1), ('immediately', 1), ('upon', 1), ('delaying', 1), ('saying', 1), ('waited', 1), ('next', 1), ('convince', 1), ('push', 1), ('due', 1), ('seemed', 1), ('intentional', 1), ('something', 1), ('often', 1), ('instructing', 1), ('draft', 1), ('officer', 1), ('outlined', 1), ('basis', 1), ('elaborate', 1), ('include', 1), ('this.', 1), (\"''\", 1), ('concern', 1), ('business', 1), ('prior', 1), ('face', 1), ('hardship', 1), ('losing', 1), ('earnest', 1), ('falling', 1), ('substantial', 1), ('expense', 1), ('associated', 1), ('drive', 1), ('move', 1), ('require', 1), ('begin', 1), ('job', 1), ('addition', 1), ('change', 1), ('request', 1), ('safe', 1), ('option', 1), ('avoid', 1), ('market', 1), ('causing', 1), ('felt', 1), ('though', 1), ('worth', 1), ('security', 1), ('knowing', 1), ('however', 1), ('wish', 1), ('anyone', 1), ('question', 1), ('hesitate', 1), ('reach', 1), ('look', 1), ('loan.', 1), ('physically', 1), ('thanks', 1), ('responded', 1), ('feel', 1), ('comfortable', 1), ('moving', 1), ('waving', 1), ('receive', 1), ('including', 1), ('really', 1), ('appreciate', 1), ('tonight', 1), ('since', 1), ('pushed', 1), ('expected.', 1), ('finally', 1), ('correct', 1), ('several', 1), ('occasion', 1), ('open', 1), ('opportunity', 1), ('desired', 1), ('discount', 1), ('come', 1), ('directly', 1), ('primary', 1), ('another', 1), ('institution', 1), ('dated', 1), ('direct', 1), ('debit', 1), ('said', 1), ('.it', 1), ('turn', 1), ('opened', 1), ('husband', 1), ('name', 1), ('charged', 1), ('opening', 1), ('signature', 1), ('fighting', 1), ('properly', 1), ('closed', 1), ('gone', 1), ('point', 1), ('last', 1), ('month', 1), ('reviewed', 1), ('report', 1), ('reporting', 1), ('agency', 1), ('find', 1), ('reason', 1), ('decrease', 1)]\n"
     ]
    }
   ],
   "source": [
    "# Create a dictionary from the counter\n",
    "BoW_dict = dict(Counter(BoW))\n",
    "\n",
    "# Sort the words\n",
    "sorted_d = sorted(BoW_dict.items(), key = operator.itemgetter(1), reverse = True)\n",
    "print(sorted_d)"
   ]
  },
  {
   "cell_type": "code",
   "execution_count": 86,
   "metadata": {},
   "outputs": [],
   "source": [
    "from collections import Counter\n",
    "import operator\n",
    "import numpy as np\n",
    "import nltk\n",
    "from textblob import TextBlob"
   ]
  },
  {
   "cell_type": "code",
   "execution_count": 87,
   "metadata": {},
   "outputs": [
    {
     "name": "stdout",
     "output_type": "stream",
     "text": [
      "587\n"
     ]
    }
   ],
   "source": [
    "print(len(BoW))"
   ]
  },
  {
   "cell_type": "code",
   "execution_count": 88,
   "metadata": {},
   "outputs": [],
   "source": [
    "# Joining the list back to sentences\n",
    "BoW_joined = \" \".join(BoW)\n",
    "\n",
    "# Converting the data to textblob\n",
    "blob = TextBlob(BoW_joined)"
   ]
  },
  {
   "cell_type": "code",
   "execution_count": 89,
   "metadata": {},
   "outputs": [
    {
     "name": "stderr",
     "output_type": "stream",
     "text": [
      "[nltk_data] Downloading package averaged_perceptron_tagger to\n",
      "[nltk_data]     /Users/akankshamishra/nltk_data...\n",
      "[nltk_data]   Package averaged_perceptron_tagger is already up-to-\n",
      "[nltk_data]       date!\n"
     ]
    },
    {
     "data": {
      "text/plain": [
       "True"
      ]
     },
     "execution_count": 89,
     "metadata": {},
     "output_type": "execute_result"
    }
   ],
   "source": [
    "import nltk\n",
    "nltk.download('averaged_perceptron_tagger')"
   ]
  },
  {
   "cell_type": "code",
   "execution_count": 90,
   "metadata": {},
   "outputs": [
    {
     "name": "stdout",
     "output_type": "stream",
     "text": [
      "[('loan', 'NN'), ('switched', 'VBD'), ('navient', 'JJ'), ('never', 'RB'), ('told', 'VBD'), ('deliquint', 'NN'), ('balance', 'NN'), ('going', 'VBG'), ('purchase', 'NN'), ('vehicle', 'NN'), ('discovered', 'VBD'), ('credit', 'NN'), ('score', 'NN'), ('dropped', 'VBD'), ('faithful', 'JJ'), ('paying', 'VBG'), ('student', 'NN'), ('loan', 'NN'), ('told', 'VBD'), ('navient', 'JJ'), ('company', 'NN'), ('delinquency', 'NN'), ('contacted', 'VBD'), ('navient', 'JJ'), ('resolve', 'NN'), ('issue', 'NN'), ('kept', 'VBD'), ('told', 'VBN'), ('contact', 'NN'), ('credit', 'NN'), ('bureau', 'NN'), ('expalin', 'JJ'), ('situation', 'NN'), ('maybe', 'RB'), ('could', 'MD'), ('help', 'VB'), ('angry', 'JJ'), ('hurried', 'VBN'), ('paid', 'VBN'), ('balance', 'NN'), ('tried', 'VBD'), ('dispute', 'JJ'), ('delinquency', 'NN'), ('credit', 'NN'), ('bureau', 'NN'), ('much', 'JJ'), ('trouble', 'NN'), ('bringing', 'VBG'), ('credit', 'NN'), ('score', 'NN'), ('back', 'RB'), ('tried', 'VBD'), ('sign', 'NN'), ('spending', 'NN'), ('monitoring', 'VBG'), ('program', 'NN'), ('capital', 'NN'), ('one', 'CD'), ('let', 'NN'), ('access', 'NN'), ('account', 'NN'), ('mortgage', 'NN'), ('bb', 'VBD'), ('bank', 'NN'), ('recently', 'RB'), ('investigating', 'VBG'), ('way', 'NN'), ('pay', 'NN'), ('mortgage', 'NN'), ('faster', 'RBR'), ('came', 'VBD'), ('across', 'IN'), ('biweekly', 'JJ'), ('mortgage', 'NN'), ('calculator', 'NN'), ('bb', 'VBD'), ('website', 'JJ'), ('nice', 'JJ'), ('easy', 'JJ'), ('use', 'NN'), ('calculator', 'NN'), ('plug', 'JJ'), ('interest', 'NN'), ('rate', 'NN'), ('mortgage', 'NN'), ('amount', 'NN'), ('mortgage', 'NN'), ('term', 'NN'), ('payment', 'NN'), ('type', 'NN'), ('calculates', 'NNS'), ('accelerated', 'VBD'), ('bi-weekly', 'JJ'), ('payment', 'NN'), ('show', 'NN'), ('much', 'JJ'), ('quicker', 'JJR'), ('pay', 'NN'), ('loan', 'NN'), ('figured', 'VBD'), ('pay', 'NN'), ('30', 'CD'), ('year', 'NN'), ('mortgage', 'NN'), ('26.4', 'CD'), ('year', 'NN'), ('quite', 'RB'), ('saving', 'VBG'), ('called', 'VBN'), ('bb', 'NN'), ('customer', 'NN'), ('service', 'NN'), ('number', 'NN'), ('inquire', 'NN'), ('get', 'NN'), ('set', 'VBN'), ('payment', 'NN'), ('plan', 'NN'), ('told', 'VBD'), ('offer', 'NN'), ('type', 'JJ'), ('payment', 'NN'), ('plan', 'NN'), ('could', 'MD'), ('send', 'VB'), ('payment', 'NN'), ('bi-weekly', 'RB'), ('would', 'MD'), ('applied', 'VB'), ('full', 'JJ'), ('amount', 'NN'), ('received', 'VBD'), ('money', 'NN'), ('would', 'MD'), ('sit', 'VB'), ('holding', 'VBG'), ('account', 'NN'), ('full', 'JJ'), ('payment', 'NN'), ('amount', 'NN'), ('collected', 'VBD'), ('ended', 'VBD'), ('calling', 'VBG'), ('back', 'RB'), ('day', 'NN'), ('later', 'RBR'), ('thinking', 'VBG'), ('rep', 'VB'), ('talking', 'VBG'), ('understand', 'JJ'), ('wanted', 'VBD'), ('knowledgeable', 'JJ'), ('program', 'NN'), ('got', 'VBD'), ('answer', 'JJR'), ('asked', 'VBN'), ('corporate', 'JJ'), ('bb', 'NN'), ('office', 'NN'), ('number', 'NN'), ('could', 'MD'), ('speak', 'VB'), ('someone', 'NN'), ('knowledgeable', 'JJ'), ('product', 'NN'), ('3', 'CD'), ('day', 'NN'), ('received', 'VBD'), ('phone', 'NN'), ('call', 'NN'), ('back', 'RB'), ('corporate', 'JJ'), ('manager', 'NN'), ('stating', 'VBG'), ('offer', 'NN'), ('product', 'NN'), ('checking', 'VBG'), ('website', 'RB'), ('stated', 'VBN'), ('customer', 'NN'), ('make', 'VBP'), ('bi-weekly', 'JJ'), ('payment', 'NN'), ('longer', 'RB'), ('offer', 'VBP'), ('service', 'NN'), ('understand', 'VBP'), ('active', 'JJ'), ('link', 'NN'), ('website', 'JJ'), ('financial', 'JJ'), ('planning', 'NN'), ('center', 'NN'), ('tab', 'NN'), ('mislead', 'JJ'), ('customer', 'NN'), ('say', 'VBP'), (\"'m\", 'VBP'), ('sorry', 'JJ'), ('know', 'VBP'), (\"'re\", 'VBP'), ('upset', 'JJ'), ('sound', 'NN'), ('like', 'IN'), ('false', 'JJ'), ('advertising', 'NN'), ('http', 'NN'), ('//www.bbt.com/xxxx', 'NNP'), ('entire', 'JJ'), ('lending', 'NN'), ('experience', 'NN'), ('citizen', 'VBD'), ('bank', 'NN'), ('terrible', 'JJ'), ('lender', 'NN'), ('kept', 'VBD'), ('pushing', 'VBG'), ('arm', 'NN'), ('considered', 'VBN'), ('initially', 'RB'), ('decided', 'VBD'), ('go', 'VB'), ('30yr', 'CD'), ('fixed', 'VBN'), ('received', 'VBD'), ('closing', 'NN'), ('disclosure', 'NN'), ('arm', 'NN'), ('immediately', 'RB'), ('requested', 'VBD'), ('corrected', 'VBD'), ('30yr', 'CD'), ('fixed', 'VBN'), ('decided', 'VBD'), ('upon', 'IN'), ('kept', 'IN'), ('delaying', 'VBG'), ('saying', 'VBG'), ('changed', 'VBN'), ('would', 'MD'), ('send', 'VB'), ('u', 'RB'), ('waited', 'JJ'), ('next', 'JJ'), ('day', 'NN'), ('tried', 'VBD'), ('convince', 'NN'), ('u', 'JJ'), ('waive', 'JJ'), ('right', 'NN'), ('would', 'MD'), ('push', 'VB'), ('closing', 'NN'), ('date', 'NN'), ('due', 'JJ'), ('3', 'CD'), ('day', 'NN'), ('clock', 'NN'), ('reset', 'NN'), ('seemed', 'VBD'), ('intentional', 'JJ'), ('like', 'IN'), ('something', 'NN'), ('often', 'RB'), ('sent', 'VBD'), ('u', 'JJ'), ('email', 'NN'), ('instructing', 'VBG'), ('u', 'JJ'), ('draft', 'NN'), ('letter', 'NN'), ('loan', 'NN'), ('officer', 'NN'), ('outlined', 'VBD'), ('basis', 'NN'), ('letter', 'NN'), ('email', 'NN'), ('please', 'NN'), ('elaborate', 'NN'), ('wanted', 'VBD'), ('product', 'NN'), ('changed', 'VBN'), ('make', 'JJ'), ('sure', 'JJ'), ('include', 'VB'), ('contact', 'JJ'), ('information', 'NN'), ('bottom', 'NN'), ('need', 'VBP'), ('this.', 'IN'), ('may', 'MD'), ('concern', 'NN'), ('letter', 'NN'), ('waive', 'WDT'), ('right', 'RB'), ('review', 'VBP'), ('new', 'JJ'), ('closing', 'NN'), ('disclosure', 'NN'), ('3', 'CD'), ('business', 'NN'), ('day', 'NN'), ('prior', 'IN'), ('closing', 'NN'), ('must', 'MD'), ('close', 'VB'), ('property', 'NN'), ('property', 'NN'), ('address', 'NN'), ('face', 'NN'), ('financial', 'JJ'), ('hardship', 'NN'), ('form', 'NN'), ('losing', 'VBG'), ('earnest', 'JJS'), ('money', 'NN'), ('deposit', 'NN'), ('property', 'NN'), ('falling', 'VBG'), ('must', 'MD'), ('close', 'VB'), ('property', 'NN'), ('substantial', 'JJ'), ('expense', 'NN'), ('associated', 'VBN'), ('drive', 'JJ'), ('move', 'NN'), ('property', 'NN'), ('address', 'NN'), ('require', 'VBP'), ('property', 'NN'), ('may', 'MD'), ('begin', 'VB'), ('new', 'JJ'), ('job', 'NN'), ('time', 'NN'), ('addition', 'NN'), ('letter', 'NN'), ('address', 'NN'), ('change', 'NN'), ('rate', 'NN'), ('product', 'NN'), ('done', 'VBN'), ('request', 'NN'), ('requested', 'VBD'), ('30', 'CD'), ('year', 'NN'), ('fixed', 'VBN'), ('rate', 'NN'), ('loan', 'NN'), ('increased', 'VBD'), ('rate', 'NN'), ('increased', 'VBN'), ('apr', 'NN'), ('decided', 'VBD'), ('30', 'CD'), ('year', 'NN'), ('fixed', 'VBN'), ('safe', 'JJ'), ('option', 'NN'), ('avoid', 'NN'), ('market', 'NN'), ('causing', 'VBG'), ('arm', 'NN'), ('rate', 'NN'), ('increase', 'NN'), ('felt', 'VBD'), ('though', 'IN'), ('difference', 'NN'), ('payment', 'NN'), ('monthly', 'JJ'), ('worth', 'JJ'), ('security', 'NN'), ('fixed', 'VBN'), ('rate', 'NN'), ('knowing', 'VBG'), ('rate', 'NN'), ('could', 'MD'), ('increase', 'VB'), ('fully', 'RB'), ('aware', 'JJ'), ('rate', 'NN'), ('apr', 'NN'), ('increased', 'VBD'), ('fully', 'RB'), ('aware', 'JJ'), ('difference', 'NN'), ('monthly', 'JJ'), ('payment', 'NN'), ('however', 'RB'), ('still', 'RB'), ('wish', 'JJ'), ('go', 'VBP'), ('30', 'CD'), ('year', 'NN'), ('fixed', 'VBN'), ('need', 'VBP'), ('close', 'JJ'), ('contact', 'JJ'), ('information', 'NN'), ('anyone', 'NN'), ('question', 'NN'), ('please', 'NN'), ('hesitate', 'VB'), ('reach', 'NN'), ('look', 'VB'), ('forward', 'RB'), ('closing', 'NN'), ('loan', 'NN'), ('please', 'VB'), ('make', 'VB'), ('sure', 'JJ'), ('physically', 'RB'), ('sign', 'JJ'), ('date', 'NN'), ('bottom', 'NN'), ('send', 'VBP'), ('back', 'RB'), ('close', 'JJ'), ('time', 'NN'), ('thanks', 'NNS'), ('responded', 'VBD'), ('feel', 'NN'), ('comfortable', 'JJ'), ('moving', 'VBG'), ('forward', 'RB'), ('waving', 'VBG'), ('right', 'RB'), ('review', 'NN'), ('closing', 'NN'), ('disclosure', 'NN'), ('would', 'MD'), ('like', 'VB'), ('receive', 'NN'), ('corrected', 'VBN'), ('closing', 'NN'), ('disclosure', 'NN'), ('30yr', 'CD'), ('fixed', 'VBN'), ('including', 'VBG'), ('corrected', 'VBN'), ('deposit', 'NN'), ('amount', 'NN'), ('understand', 'JJ'), ('reset', 'NN'), ('clock', 'NN'), ('would', 'MD'), ('really', 'RB'), ('appreciate', 'VB'), ('could', 'MD'), ('done', 'VBN'), ('tonight', 'NN'), ('since', 'IN'), ('closing', 'NN'), ('date', 'NN'), ('already', 'RB'), ('pushed', 'VBN'), ('expected', 'VBN'), ('finally', 'RB'), ('sent', 'VBN'), ('u', 'JJ'), ('correct', 'NN'), ('closing', 'NN'), ('disclosure', 'NN'), ('several', 'JJ'), ('occasion', 'NN'), ('asked', 'VBD'), ('open', 'JJ'), ('checking', 'NN'), ('account', 'NN'), ('told', 'VBD'), ('would', 'MD'), ('opportunity', 'NN'), ('later', 'RB'), ('desired', 'VBN'), ('would', 'MD'), ('discount', 'VB'), ('account', 'NN'), ('decided', 'VBD'), ('need', 'MD'), ('one', 'CD'), ('closing', 'NN'), ('set', 'VBN'), ('mortgage', 'NN'), ('payment', 'NN'), ('come', 'VBP'), ('directly', 'RB'), ('primary', 'JJ'), ('bank', 'NN'), ('account', 'NN'), ('another', 'DT'), ('institution', 'NN'), ('received', 'VBD'), ('email', 'JJ'), ('stating', 'VBG'), ('form', 'NN'), ('signed', 'VBD'), ('forgotten', 'RB'), ('closing', 'VBG'), ('form', 'NN'), ('dated', 'VBD'), ('ach', 'NN'), ('direct', 'JJ'), ('debit', 'NN'), ('mortgage', 'NN'), ('payment', 'NN'), ('bank', 'NN'), ('account', 'NN'), ('citizen', 'JJ'), ('bank', 'NN'), ('said', 'VBD'), ('going', 'VBG'), ('sign', 'NN'), ('already', 'RB'), ('set', 'VB'), ('payment', 'NN'), ('bank', 'NN'), ('signed', 'VBD'), ('ach', 'JJ'), ('form', 'NN'), ('form', 'NN'), ('forgotten', 'VBN'), ('closing', 'VBG'), ('form', 'NN'), ('account', 'NN'), ('number', 'NN'), ('asked', 'VBD'), ('could', 'MD'), ('account', 'VB'), ('number', 'NN'), ('even', 'RB'), ('citizen', 'JJ'), ('bank', 'NN'), ('account', 'NN'), ('.it', 'NNP'), ('turn', 'NN'), ('opened', 'VBD'), ('checking', 'VBG'), ('saving', 'VBG'), ('credit', 'NN'), ('line', 'NN'), ('account', 'NN'), ('husband', 'NN'), ('name', 'NN'), ('without', 'IN'), ('authorization', 'NN'), ('even', 'RB'), ('charged', 'VBD'), ('credit', 'NN'), ('line', 'NN'), ('opening', 'VBG'), ('deposit', 'NN'), ('checking', 'VBG'), ('account', 'NN'), ('without', 'IN'), ('authorization', 'NN'), ('signature', 'NN'), ('still', 'RB'), ('fighting', 'VBG'), ('get', 'VB'), ('properly', 'RB'), ('closed', 'VBN'), ('credit', 'NN'), ('score', 'NN'), ('gone', 'VBN'), ('point', 'NN'), ('last', 'JJ'), ('month', 'NN'), ('requested', 'VBD'), ('reviewed', 'VBD'), ('report', 'NN'), ('credit', 'NN'), ('reporting', 'VBG'), ('agency', 'NN'), ('find', 'VB'), ('significant', 'JJ'), ('reason', 'NN'), ('significant', 'JJ'), ('decrease', 'NN'), ('score', 'NN'), ('please', 'NN'), ('help', 'NN')]\n"
     ]
    }
   ],
   "source": [
    "print(blob.tags)"
   ]
  },
  {
   "cell_type": "code",
   "execution_count": 92,
   "metadata": {},
   "outputs": [
    {
     "name": "stdout",
     "output_type": "stream",
     "text": [
      "[('payment', 12), ('closing', 12), ('account', 11), ('credit', 8), ('mortgage', 8), ('rate', 8), ('would', 8), ('bank', 7), ('fixed', 7), ('could', 6)]\n"
     ]
    }
   ],
   "source": [
    "from collections import Counter\n",
    "d = dict(Counter(BoW))\n",
    "import operator\n",
    "sorted_d = sorted(d.items(), key=operator.itemgetter(1), reverse=True)\n",
    "top_10 = sorted_d[:10]\n",
    "print(top_10)"
   ]
  },
  {
   "cell_type": "code",
   "execution_count": 93,
   "metadata": {},
   "outputs": [],
   "source": [
    "from collections import Counter\n",
    "import operator\n",
    "import numpy as np\n",
    "import nltk\n",
    "from textblob import TextBlob\n",
    "\n",
    "#Storing only the top 10 words\n",
    "top_words=[]\n",
    "for x in top_10:\n",
    "    top_words.append(x[0])"
   ]
  },
  {
   "cell_type": "code",
   "execution_count": 94,
   "metadata": {},
   "outputs": [
    {
     "name": "stdout",
     "output_type": "stream",
     "text": [
      "['payment', 'closing', 'account', 'credit', 'mortgage', 'rate', 'would', 'bank', 'fixed', 'could']\n"
     ]
    }
   ],
   "source": [
    "print(top_words)"
   ]
  },
  {
   "cell_type": "code",
   "execution_count": 95,
   "metadata": {},
   "outputs": [],
   "source": [
    "#Extracting the tags\n",
    "tags = blob.tags"
   ]
  },
  {
   "cell_type": "code",
   "execution_count": 96,
   "metadata": {},
   "outputs": [],
   "source": [
    "#Initialising an empty list\n",
    "nouns = []\n",
    "\n",
    "#Extracing the words with NN tags\n",
    "for i in tags:\n",
    "    if i[1] == \"NN\":\n",
    "        nouns.append(i[0])"
   ]
  },
  {
   "cell_type": "code",
   "execution_count": 97,
   "metadata": {},
   "outputs": [
    {
     "name": "stdout",
     "output_type": "stream",
     "text": [
      "['loan', 'deliquint', 'balance', 'purchase', 'vehicle', 'credit', 'score', 'student', 'loan', 'company', 'delinquency', 'resolve', 'issue', 'contact', 'credit', 'bureau', 'situation', 'balance', 'delinquency', 'credit', 'bureau', 'trouble', 'credit', 'score', 'sign', 'spending', 'program', 'capital', 'let', 'access', 'account', 'mortgage', 'bank', 'way', 'pay', 'mortgage', 'mortgage', 'calculator', 'use', 'calculator', 'interest', 'rate', 'mortgage', 'amount', 'mortgage', 'term', 'payment', 'type', 'payment', 'show', 'pay', 'loan', 'pay', 'year', 'mortgage', 'year', 'bb', 'customer', 'service', 'number', 'inquire', 'get', 'payment', 'plan', 'offer', 'payment', 'plan', 'payment', 'amount', 'money', 'account', 'payment', 'amount', 'day', 'program', 'bb', 'office', 'number', 'someone', 'product', 'day', 'phone', 'call', 'manager', 'offer', 'product', 'customer', 'payment', 'service', 'link', 'planning', 'center', 'tab', 'customer', 'sound', 'advertising', 'http', 'lending', 'experience', 'bank', 'lender', 'arm', 'closing', 'disclosure', 'arm', 'day', 'convince', 'right', 'closing', 'date', 'day', 'clock', 'reset', 'something', 'email', 'draft', 'letter', 'loan', 'officer', 'basis', 'letter', 'email', 'please', 'elaborate', 'product', 'information', 'bottom', 'concern', 'letter', 'closing', 'disclosure', 'business', 'day', 'closing', 'property', 'property', 'address', 'face', 'hardship', 'form', 'money', 'deposit', 'property', 'property', 'expense', 'move', 'property', 'address', 'property', 'job', 'time', 'addition', 'letter', 'address', 'change', 'rate', 'product', 'request', 'year', 'rate', 'loan', 'rate', 'apr', 'year', 'option', 'avoid', 'market', 'arm', 'rate', 'increase', 'difference', 'payment', 'security', 'rate', 'rate', 'rate', 'apr', 'difference', 'payment', 'year', 'information', 'anyone', 'question', 'please', 'reach', 'closing', 'loan', 'date', 'bottom', 'time', 'feel', 'review', 'closing', 'disclosure', 'receive', 'closing', 'disclosure', 'deposit', 'amount', 'reset', 'clock', 'tonight', 'closing', 'date', 'correct', 'closing', 'disclosure', 'occasion', 'checking', 'account', 'opportunity', 'account', 'closing', 'mortgage', 'payment', 'bank', 'account', 'institution', 'form', 'form', 'ach', 'debit', 'mortgage', 'payment', 'bank', 'account', 'bank', 'sign', 'payment', 'bank', 'form', 'form', 'form', 'account', 'number', 'number', 'bank', 'account', 'turn', 'credit', 'line', 'account', 'husband', 'name', 'authorization', 'credit', 'line', 'deposit', 'account', 'authorization', 'signature', 'credit', 'score', 'point', 'month', 'report', 'credit', 'agency', 'reason', 'decrease', 'score', 'please', 'help']\n"
     ]
    }
   ],
   "source": [
    "print(nouns)"
   ]
  },
  {
   "cell_type": "code",
   "execution_count": 98,
   "metadata": {},
   "outputs": [
    {
     "name": "stdout",
     "output_type": "stream",
     "text": [
      "['payment', 'closing', 'account', 'credit', 'mortgage', 'rate', 'bank']\n"
     ]
    }
   ],
   "source": [
    "#Comparing the two lists to extract the common elements        \n",
    "top_nouns = [x for x in top_words if x in nouns]\n",
    "print(top_nouns)"
   ]
  },
  {
   "cell_type": "code",
   "execution_count": 99,
   "metadata": {},
   "outputs": [
    {
     "data": {
      "text/html": [
       "<div>\n",
       "<style scoped>\n",
       "    .dataframe tbody tr th:only-of-type {\n",
       "        vertical-align: middle;\n",
       "    }\n",
       "\n",
       "    .dataframe tbody tr th {\n",
       "        vertical-align: top;\n",
       "    }\n",
       "\n",
       "    .dataframe thead th {\n",
       "        text-align: right;\n",
       "    }\n",
       "</style>\n",
       "<table border=\"1\" class=\"dataframe\">\n",
       "  <thead>\n",
       "    <tr style=\"text-align: right;\">\n",
       "      <th></th>\n",
       "      <th>0</th>\n",
       "      <th>1</th>\n",
       "      <th>2</th>\n",
       "      <th>3</th>\n",
       "      <th>4</th>\n",
       "      <th>5</th>\n",
       "      <th>6</th>\n",
       "      <th>7</th>\n",
       "      <th>8</th>\n",
       "      <th>9</th>\n",
       "      <th>...</th>\n",
       "      <th>279</th>\n",
       "      <th>280</th>\n",
       "      <th>281</th>\n",
       "      <th>282</th>\n",
       "      <th>283</th>\n",
       "      <th>284</th>\n",
       "      <th>285</th>\n",
       "      <th>286</th>\n",
       "      <th>287</th>\n",
       "      <th>288</th>\n",
       "    </tr>\n",
       "  </thead>\n",
       "  <tbody>\n",
       "    <tr>\n",
       "      <th>0</th>\n",
       "      <td>0.00000</td>\n",
       "      <td>0.000000</td>\n",
       "      <td>0.000000</td>\n",
       "      <td>0.00000</td>\n",
       "      <td>0.000000</td>\n",
       "      <td>0.000000</td>\n",
       "      <td>0.000000</td>\n",
       "      <td>0.000000</td>\n",
       "      <td>0.00000</td>\n",
       "      <td>0.000000</td>\n",
       "      <td>...</td>\n",
       "      <td>0.000000</td>\n",
       "      <td>0.00000</td>\n",
       "      <td>0.000000</td>\n",
       "      <td>0.000000</td>\n",
       "      <td>0.000000</td>\n",
       "      <td>0.000000</td>\n",
       "      <td>0.00000</td>\n",
       "      <td>0.203219</td>\n",
       "      <td>0.000000</td>\n",
       "      <td>0.00000</td>\n",
       "    </tr>\n",
       "    <tr>\n",
       "      <th>1</th>\n",
       "      <td>0.00000</td>\n",
       "      <td>0.000000</td>\n",
       "      <td>0.000000</td>\n",
       "      <td>0.00000</td>\n",
       "      <td>0.372708</td>\n",
       "      <td>0.249607</td>\n",
       "      <td>0.000000</td>\n",
       "      <td>0.000000</td>\n",
       "      <td>0.00000</td>\n",
       "      <td>0.000000</td>\n",
       "      <td>...</td>\n",
       "      <td>0.000000</td>\n",
       "      <td>0.00000</td>\n",
       "      <td>0.000000</td>\n",
       "      <td>0.000000</td>\n",
       "      <td>0.000000</td>\n",
       "      <td>0.000000</td>\n",
       "      <td>0.00000</td>\n",
       "      <td>0.000000</td>\n",
       "      <td>0.000000</td>\n",
       "      <td>0.00000</td>\n",
       "    </tr>\n",
       "    <tr>\n",
       "      <th>2</th>\n",
       "      <td>0.06819</td>\n",
       "      <td>0.055016</td>\n",
       "      <td>0.000000</td>\n",
       "      <td>0.06819</td>\n",
       "      <td>0.000000</td>\n",
       "      <td>0.045668</td>\n",
       "      <td>0.000000</td>\n",
       "      <td>0.000000</td>\n",
       "      <td>0.06819</td>\n",
       "      <td>0.000000</td>\n",
       "      <td>...</td>\n",
       "      <td>0.000000</td>\n",
       "      <td>0.06819</td>\n",
       "      <td>0.204571</td>\n",
       "      <td>0.204571</td>\n",
       "      <td>0.000000</td>\n",
       "      <td>0.000000</td>\n",
       "      <td>0.06819</td>\n",
       "      <td>0.038417</td>\n",
       "      <td>0.055016</td>\n",
       "      <td>0.06819</td>\n",
       "    </tr>\n",
       "    <tr>\n",
       "      <th>3</th>\n",
       "      <td>0.00000</td>\n",
       "      <td>0.085335</td>\n",
       "      <td>0.105771</td>\n",
       "      <td>0.00000</td>\n",
       "      <td>0.000000</td>\n",
       "      <td>0.188896</td>\n",
       "      <td>0.035257</td>\n",
       "      <td>0.070514</td>\n",
       "      <td>0.00000</td>\n",
       "      <td>0.035257</td>\n",
       "      <td>...</td>\n",
       "      <td>0.035257</td>\n",
       "      <td>0.00000</td>\n",
       "      <td>0.000000</td>\n",
       "      <td>0.000000</td>\n",
       "      <td>0.035257</td>\n",
       "      <td>0.035257</td>\n",
       "      <td>0.00000</td>\n",
       "      <td>0.158906</td>\n",
       "      <td>0.085335</td>\n",
       "      <td>0.00000</td>\n",
       "    </tr>\n",
       "    <tr>\n",
       "      <th>4</th>\n",
       "      <td>0.00000</td>\n",
       "      <td>0.000000</td>\n",
       "      <td>0.000000</td>\n",
       "      <td>0.00000</td>\n",
       "      <td>0.000000</td>\n",
       "      <td>0.000000</td>\n",
       "      <td>0.000000</td>\n",
       "      <td>0.000000</td>\n",
       "      <td>0.00000</td>\n",
       "      <td>0.000000</td>\n",
       "      <td>...</td>\n",
       "      <td>0.000000</td>\n",
       "      <td>0.00000</td>\n",
       "      <td>0.000000</td>\n",
       "      <td>0.000000</td>\n",
       "      <td>0.000000</td>\n",
       "      <td>0.000000</td>\n",
       "      <td>0.00000</td>\n",
       "      <td>0.462143</td>\n",
       "      <td>0.000000</td>\n",
       "      <td>0.00000</td>\n",
       "    </tr>\n",
       "  </tbody>\n",
       "</table>\n",
       "<p>5 rows × 289 columns</p>\n",
       "</div>"
      ],
      "text/plain": [
       "       0         1         2        3         4         5         6    \\\n",
       "0  0.00000  0.000000  0.000000  0.00000  0.000000  0.000000  0.000000   \n",
       "1  0.00000  0.000000  0.000000  0.00000  0.372708  0.249607  0.000000   \n",
       "2  0.06819  0.055016  0.000000  0.06819  0.000000  0.045668  0.000000   \n",
       "3  0.00000  0.085335  0.105771  0.00000  0.000000  0.188896  0.035257   \n",
       "4  0.00000  0.000000  0.000000  0.00000  0.000000  0.000000  0.000000   \n",
       "\n",
       "        7        8         9    ...       279      280       281       282  \\\n",
       "0  0.000000  0.00000  0.000000  ...  0.000000  0.00000  0.000000  0.000000   \n",
       "1  0.000000  0.00000  0.000000  ...  0.000000  0.00000  0.000000  0.000000   \n",
       "2  0.000000  0.06819  0.000000  ...  0.000000  0.06819  0.204571  0.204571   \n",
       "3  0.070514  0.00000  0.035257  ...  0.035257  0.00000  0.000000  0.000000   \n",
       "4  0.000000  0.00000  0.000000  ...  0.000000  0.00000  0.000000  0.000000   \n",
       "\n",
       "        283       284      285       286       287      288  \n",
       "0  0.000000  0.000000  0.00000  0.203219  0.000000  0.00000  \n",
       "1  0.000000  0.000000  0.00000  0.000000  0.000000  0.00000  \n",
       "2  0.000000  0.000000  0.06819  0.038417  0.055016  0.06819  \n",
       "3  0.035257  0.035257  0.00000  0.158906  0.085335  0.00000  \n",
       "4  0.000000  0.000000  0.00000  0.462143  0.000000  0.00000  \n",
       "\n",
       "[5 rows x 289 columns]"
      ]
     },
     "execution_count": 99,
     "metadata": {},
     "output_type": "execute_result"
    }
   ],
   "source": [
    "from sklearn.feature_extraction.text import TfidfVectorizer\n",
    "# list of text documents called sents\n",
    "\n",
    "# Subsetting the 'X' column\n",
    "all_text = first_five_complaints[\"X\"]\n",
    "#Converting that to a Dataframe\n",
    "all_text = pd.DataFrame(all_text)\n",
    "#Giving the column name as Text from X\n",
    "all_text.columns = [\"Text\"]\n",
    "#Converting the text to lowercase\n",
    "all_text[\"Text\"] = all_text[\"Text\"].str.lower()\n",
    "\n",
    "# Initialising the tfidf vectorizer with the default stopword list \n",
    "tfidf = TfidfVectorizer(stop_words=\"english\")\n",
    "\n",
    "#Vectorizing 'X' column\n",
    "vector =tfidf.fit_transform(all_text[\"Text\"])\n",
    "\n",
    "#Converting vector into an array\n",
    "X= vector.toarray()\n",
    "\n",
    "pd.DataFrame(X)"
   ]
  },
  {
   "cell_type": "code",
   "execution_count": 100,
   "metadata": {},
   "outputs": [
    {
     "name": "stdout",
     "output_type": "stream",
     "text": [
      "The number of topics chosen are 5\n"
     ]
    }
   ],
   "source": [
    "from sklearn.decomposition import TruncatedSVD\n",
    "\n",
    "svd_model = TruncatedSVD(n_components=5, algorithm='randomized', n_iter=100, random_state=122)\n",
    "svd_model.fit(X)\n",
    "\n",
    "print(\"The number of topics chosen are\",len(svd_model.components_))"
   ]
  },
  {
   "cell_type": "code",
   "execution_count": 101,
   "metadata": {},
   "outputs": [
    {
     "name": "stdout",
     "output_type": "stream",
     "text": [
      "['Topic 0: ', 'xxxx', 'credit', 'score', 'significant', 'navient', 'closing', 'told']\n",
      "['Topic 1: ', 'mortgage', 'account', 'payment', 'closing', 'bb', 'program', 'access']\n",
      "['Topic 2: ', 'access', 'capital', 'let', 'monitoring', 'spending', 'sign', 'program']\n",
      "['Topic 3: ', 'closing', 'fixed', 'form', 'property', 'disclosure', 'rate', 'close']\n",
      "['Topic 4: ', 'significant', 'xxxx', 'agencies', 'decrease', 'gone', 'month', 'points']\n"
     ]
    }
   ],
   "source": [
    "terms = tfidf.get_feature_names()\n",
    "topics = []\n",
    "for i, comp in enumerate(svd_model.components_):\n",
    "    terms_comp = zip(terms, comp)\n",
    "    sorted_terms = sorted(terms_comp, key= lambda x:x[1], reverse=True)[:7]\n",
    "    topics.append(\"Topic \"+str(i)+\": \")\n",
    "    for t in sorted_terms:\n",
    "        topics.append(t[0])\n",
    "final_topic_list = [topics[i:i+8] for i in range(0, len(topics), 8)]\n",
    "for x in final_topic_list:\n",
    "    print (x)"
   ]
  },
  {
   "cell_type": "code",
   "execution_count": 102,
   "metadata": {},
   "outputs": [
    {
     "data": {
      "text/plain": [
       "array([[ 0.01692055,  0.04740929,  0.04184204, ...,  0.4077978 ,\n",
       "         0.04740929,  0.01692055],\n",
       "       [ 0.0385684 ,  0.0685289 ,  0.04637141, ..., -0.14921617,\n",
       "         0.0685289 ,  0.0385684 ],\n",
       "       [-0.03011491, -0.03424992, -0.01233698, ..., -0.01795826,\n",
       "        -0.03424992, -0.03011491],\n",
       "       [-0.04527131,  0.03302672,  0.08620707, ...,  0.04455295,\n",
       "         0.03302672, -0.04527131],\n",
       "       [ 0.00566724, -0.00560768, -0.01261781, ...,  0.20563592,\n",
       "        -0.00560768,  0.00566724]])"
      ]
     },
     "execution_count": 102,
     "metadata": {},
     "output_type": "execute_result"
    }
   ],
   "source": [
    "svd_model.components_\n"
   ]
  },
  {
   "cell_type": "code",
   "execution_count": 103,
   "metadata": {},
   "outputs": [
    {
     "data": {
      "text/plain": [
       "[(0, array([0.01692055, 0.04740929, 0.04184204, 0.01692055, 0.04823195,\n",
       "         0.11835899, 0.01394735, 0.02789469, 0.01692055, 0.01394735,\n",
       "         0.04184204, 0.01692055, 0.1034124 , 0.06056308, 0.01692055,\n",
       "         0.01692055, 0.01394735, 0.02789469, 0.04184204, 0.03615666,\n",
       "         0.01394735, 0.02789469, 0.01394735, 0.02789469, 0.12112617,\n",
       "         0.08116718, 0.01394735, 0.0676822 , 0.01692055, 0.01394735,\n",
       "         0.05076165, 0.01692055, 0.06056308, 0.12112617, 0.01394735,\n",
       "         0.01692055, 0.0338411 , 0.01692055, 0.01692055, 0.01692055,\n",
       "         0.04823195, 0.01394735, 0.01692055, 0.01394735, 0.02789469,\n",
       "         0.01394735, 0.04740929, 0.04184204, 0.02789469, 0.05578938,\n",
       "         0.01394735, 0.16736815, 0.01692055, 0.01692055, 0.01394735,\n",
       "         0.01394735, 0.06056308, 0.01394735, 0.01394735, 0.07136718,\n",
       "         0.06056308, 0.01394735, 0.0338411 , 0.01394735, 0.04184204,\n",
       "         0.31943359, 0.01692055, 0.0338411 , 0.04184204, 0.01394735,\n",
       "         0.02789469, 0.03855542, 0.01394735, 0.05578938, 0.1034124 ,\n",
       "         0.01394735, 0.12112617, 0.06056308, 0.04184204, 0.01394735,\n",
       "         0.06011454, 0.01692055, 0.02789469, 0.01394735, 0.01394735,\n",
       "         0.06973673, 0.01394735, 0.06056308, 0.06056308, 0.01692055,\n",
       "         0.01394735, 0.01394735, 0.06056308, 0.01394735, 0.01692055,\n",
       "         0.01394735, 0.04184204, 0.01692055, 0.01394735, 0.06056308,\n",
       "         0.01394735, 0.01394735, 0.01394735, 0.01394735, 0.06056308,\n",
       "         0.01394735, 0.01692055, 0.01692055, 0.01394735, 0.01394735,\n",
       "         0.01394735, 0.01692055, 0.01394735, 0.02490402, 0.09763142,\n",
       "         0.02789469, 0.08368407, 0.02789469, 0.02789469, 0.06011454,\n",
       "         0.1034124 , 0.01692055, 0.01394735, 0.04184204, 0.13229439,\n",
       "         0.01394735, 0.01692055, 0.01692055, 0.06056308, 0.01394735,\n",
       "         0.01394735, 0.01394735, 0.01394735, 0.02789469, 0.04184204,\n",
       "         0.02789469, 0.01394735, 0.01692055, 0.01394735, 0.01394735,\n",
       "         0.01394735, 0.01692055, 0.06056308, 0.01394735, 0.12112617,\n",
       "         0.07136718, 0.01692055, 0.01394735, 0.0338411 , 0.02490402,\n",
       "         0.01394735, 0.01394735, 0.04823195, 0.05578938, 0.03615666,\n",
       "         0.02789469, 0.01692055, 0.12047359, 0.01692055, 0.01394735,\n",
       "         0.01394735, 0.03615666, 0.01692055, 0.01394735, 0.06056308,\n",
       "         0.01692055, 0.02490402, 0.04823195, 0.1034124 , 0.02789469,\n",
       "         0.10441363, 0.01394735, 0.18168925, 0.04184204, 0.02789469,\n",
       "         0.01692055, 0.04980805, 0.01394735, 0.05076165, 0.01692055,\n",
       "         0.01394735, 0.01394735, 0.01394735, 0.01394735, 0.01394735,\n",
       "         0.01394735, 0.01394735, 0.06056308, 0.05076165, 0.06056308,\n",
       "         0.10201486, 0.04980805, 0.01692055, 0.01394735, 0.0338411 ,\n",
       "         0.01692055, 0.01692055, 0.1034124 , 0.01394735, 0.01394735,\n",
       "         0.04980805, 0.05256463, 0.01394735, 0.08368407, 0.06056308,\n",
       "         0.01394735, 0.01394735, 0.01394735, 0.01394735, 0.01692055,\n",
       "         0.01692055, 0.09241981, 0.01394735, 0.01394735, 0.1034124 ,\n",
       "         0.01394735, 0.04980805, 0.01692055, 0.01692055, 0.1034124 ,\n",
       "         0.1034124 , 0.01394735, 0.10593774, 0.01394735, 0.02789469,\n",
       "         0.06056308, 0.01394735, 0.02789469, 0.1034124 , 0.01394735,\n",
       "         0.02789469, 0.01394735, 0.01394735, 0.02490402, 0.01692055,\n",
       "         0.01394735, 0.26458878, 0.01394735, 0.03615666, 0.02789469,\n",
       "         0.0338411 , 0.03615666, 0.01692055, 0.0614185 , 0.01394735,\n",
       "         0.02789469, 0.2068248 , 0.01692055, 0.06056308, 0.01692055,\n",
       "         0.01692055, 0.01692055, 0.04823195, 0.01692055, 0.02490402,\n",
       "         0.06056308, 0.01394735, 0.02789469, 0.06056308, 0.01692055,\n",
       "         0.01692055, 0.01692055, 0.01394735, 0.01394735, 0.01692055,\n",
       "         0.02789469, 0.142352  , 0.01394735, 0.082202  , 0.06056308,\n",
       "         0.01394735, 0.0338411 , 0.03855542, 0.01692055, 0.01692055,\n",
       "         0.06056308, 0.01394735, 0.02789469, 0.02490402, 0.01394735,\n",
       "         0.01692055, 0.05076165, 0.05076165, 0.01394735, 0.01394735,\n",
       "         0.01692055, 0.4077978 , 0.04740929, 0.01692055])),\n",
       " (1, array([ 0.0385684 ,  0.0685289 ,  0.04637141,  0.0385684 ,  0.13616592,\n",
       "          0.19983621,  0.01545714,  0.03091427,  0.0385684 ,  0.01545714,\n",
       "          0.04637141,  0.0385684 , -0.07526264, -0.04201086,  0.0385684 ,\n",
       "          0.0385684 ,  0.01545714,  0.03091427,  0.04637141,  0.05605818,\n",
       "          0.01545714,  0.03091427,  0.01545714,  0.03091427, -0.08402172,\n",
       "          0.10594107,  0.01545714,  0.15427359,  0.0385684 ,  0.01545714,\n",
       "          0.1157052 ,  0.0385684 , -0.04201086, -0.08402172,  0.01545714,\n",
       "          0.0385684 ,  0.0771368 ,  0.0385684 ,  0.0385684 ,  0.0385684 ,\n",
       "          0.13616592,  0.01545714,  0.0385684 ,  0.01545714,  0.03091427,\n",
       "          0.01545714,  0.0685289 ,  0.04637141,  0.03091427,  0.06182855,\n",
       "          0.01545714,  0.18548564,  0.0385684 ,  0.0385684 ,  0.01545714,\n",
       "          0.01545714, -0.04201086,  0.01545714,  0.01545714, -0.00895266,\n",
       "         -0.04201086,  0.01545714,  0.0771368 ,  0.01545714,  0.04637141,\n",
       "         -0.19264553,  0.0385684 ,  0.0771368 ,  0.04637141,  0.01545714,\n",
       "          0.03091427,  0.0747042 ,  0.01545714,  0.06182855, -0.07526264,\n",
       "          0.01545714, -0.08402172, -0.04201086,  0.04637141,  0.01545714,\n",
       "         -0.02142338,  0.0385684 ,  0.03091427,  0.01545714,  0.01545714,\n",
       "          0.07728568,  0.01545714, -0.04201086, -0.04201086,  0.0385684 ,\n",
       "          0.01545714,  0.01545714, -0.04201086,  0.01545714,  0.0385684 ,\n",
       "          0.01545714,  0.04637141,  0.0385684 ,  0.01545714, -0.04201086,\n",
       "          0.01545714,  0.01545714,  0.01545714,  0.01545714, -0.04201086,\n",
       "          0.01545714,  0.0385684 ,  0.0385684 ,  0.01545714,  0.01545714,\n",
       "          0.01545714,  0.0385684 ,  0.01545714,  0.04358746,  0.10819996,\n",
       "          0.03091427,  0.09274282,  0.03091427,  0.03091427, -0.02142338,\n",
       "         -0.07526264,  0.0385684 ,  0.01545714,  0.04637141, -0.09461552,\n",
       "          0.01545714,  0.0385684 ,  0.0385684 , -0.04201086,  0.01545714,\n",
       "          0.01545714,  0.01545714,  0.01545714,  0.03091427,  0.04637141,\n",
       "          0.03091427,  0.01545714,  0.0385684 ,  0.01545714,  0.01545714,\n",
       "          0.01545714,  0.0385684 , -0.04201086,  0.01545714, -0.08402172,\n",
       "         -0.00895266,  0.0385684 ,  0.01545714,  0.0771368 ,  0.04358746,\n",
       "          0.01545714,  0.01545714,  0.13616592,  0.06182855,  0.05605818,\n",
       "          0.03091427,  0.0385684 ,  0.00061486,  0.0385684 ,  0.01545714,\n",
       "          0.01545714,  0.05605818,  0.0385684 ,  0.01545714, -0.04201086,\n",
       "          0.0385684 ,  0.04358746,  0.13616592, -0.07526264,  0.03091427,\n",
       "          0.21164189,  0.01545714, -0.12603258,  0.04637141,  0.03091427,\n",
       "          0.0385684 ,  0.08717492,  0.01545714,  0.1157052 ,  0.0385684 ,\n",
       "          0.01545714,  0.01545714,  0.01545714,  0.01545714,  0.01545714,\n",
       "          0.01545714,  0.01545714, -0.04201086,  0.1157052 , -0.04201086,\n",
       "          0.19299587,  0.08717492,  0.0385684 ,  0.01545714,  0.0771368 ,\n",
       "          0.0385684 ,  0.0385684 , -0.07526264,  0.01545714,  0.01545714,\n",
       "          0.08717492,  0.14097455,  0.01545714,  0.09274282, -0.04201086,\n",
       "          0.01545714,  0.01545714,  0.01545714,  0.01545714,  0.0385684 ,\n",
       "          0.0385684 ,  0.11841179,  0.01545714,  0.01545714, -0.07526264,\n",
       "          0.01545714,  0.08717492,  0.0385684 ,  0.0385684 , -0.07526264,\n",
       "         -0.07526264,  0.01545714, -0.03577998,  0.01545714,  0.03091427,\n",
       "         -0.04201086,  0.01545714,  0.03091427, -0.07526264,  0.01545714,\n",
       "          0.03091427,  0.01545714,  0.01545714,  0.04358746,  0.0385684 ,\n",
       "          0.01545714, -0.18923103,  0.01545714,  0.05605818,  0.03091427,\n",
       "          0.0771368 ,  0.05605818,  0.0385684 ,  0.13479925,  0.01545714,\n",
       "          0.03091427, -0.15052527,  0.0385684 , -0.04201086,  0.0385684 ,\n",
       "          0.0385684 ,  0.0385684 ,  0.13616592,  0.0385684 ,  0.04358746,\n",
       "         -0.04201086,  0.01545714,  0.03091427, -0.04201086,  0.0385684 ,\n",
       "          0.0385684 ,  0.0385684 ,  0.01545714,  0.01545714,  0.0385684 ,\n",
       "          0.03091427, -0.04822396,  0.01545714,  0.07340857, -0.04201086,\n",
       "          0.01545714,  0.0771368 ,  0.0747042 ,  0.0385684 ,  0.0385684 ,\n",
       "         -0.04201086,  0.01545714,  0.03091427,  0.04358746,  0.01545714,\n",
       "          0.0385684 ,  0.1157052 ,  0.1157052 ,  0.01545714,  0.01545714,\n",
       "          0.0385684 , -0.14921617,  0.0685289 ,  0.0385684 ])),\n",
       " (2, array([-0.03011491, -0.03424992, -0.01233698, -0.03011491,  0.33498831,\n",
       "          0.18214468, -0.00411233, -0.00822465, -0.03011491, -0.00411233,\n",
       "         -0.01233698, -0.03011491,  0.00130107,  0.00864448, -0.03011491,\n",
       "         -0.03011491, -0.00411233, -0.00822465, -0.01233698, -0.03093212,\n",
       "         -0.00411233, -0.00822465, -0.00411233, -0.00822465,  0.01728896,\n",
       "         -0.04420331, -0.00411233, -0.12045964, -0.03011491, -0.00411233,\n",
       "         -0.09034473, -0.03011491,  0.00864448,  0.01728896, -0.00411233,\n",
       "         -0.03011491, -0.06022982, -0.03011491, -0.03011491, -0.03011491,\n",
       "          0.33498831, -0.00411233, -0.03011491, -0.00411233, -0.00822465,\n",
       "         -0.00411233, -0.03424992, -0.01233698, -0.00822465, -0.0164493 ,\n",
       "         -0.00411233, -0.04934791, -0.03011491, -0.03011491, -0.00411233,\n",
       "         -0.00411233,  0.00864448, -0.00411233, -0.00411233,  0.00033872,\n",
       "          0.00864448, -0.00411233, -0.06022982, -0.00411233, -0.01233698,\n",
       "          0.01939178, -0.03011491, -0.06022982, -0.01233698, -0.00411233,\n",
       "         -0.00822465, -0.05191084, -0.00411233, -0.0164493 ,  0.00130107,\n",
       "         -0.00411233,  0.01728896,  0.00864448, -0.01233698, -0.00411233,\n",
       "          0.00365651, -0.03011491, -0.00822465, -0.00411233, -0.00411233,\n",
       "         -0.02056163, -0.00411233,  0.00864448,  0.00864448, -0.03011491,\n",
       "         -0.00411233, -0.00411233,  0.00864448, -0.00411233, -0.03011491,\n",
       "         -0.00411233, -0.01233698, -0.03011491, -0.00411233,  0.00864448,\n",
       "         -0.00411233, -0.00411233, -0.00411233, -0.00411233,  0.00864448,\n",
       "         -0.00411233, -0.03011491, -0.03011491, -0.00411233, -0.00411233,\n",
       "         -0.00411233, -0.03011491, -0.00411233, -0.02761432, -0.02878628,\n",
       "         -0.00822465, -0.02467396, -0.00822465, -0.00822465,  0.00365651,\n",
       "          0.00130107, -0.03011491, -0.00411233, -0.01233698,  0.00802401,\n",
       "         -0.00411233, -0.03011491, -0.03011491,  0.00864448, -0.00411233,\n",
       "         -0.00411233, -0.00411233, -0.00411233, -0.00822465, -0.01233698,\n",
       "         -0.00822465, -0.00411233, -0.03011491, -0.00411233, -0.00411233,\n",
       "         -0.00411233, -0.03011491,  0.00864448, -0.00411233,  0.01728896,\n",
       "          0.00033872, -0.03011491, -0.00411233, -0.06022982, -0.02761432,\n",
       "         -0.00411233, -0.00411233,  0.33498831, -0.0164493 , -0.03093212,\n",
       "         -0.00822465, -0.03011491, -0.0168519 , -0.03011491, -0.00411233,\n",
       "         -0.00411233, -0.03093212, -0.03011491, -0.00411233,  0.00864448,\n",
       "         -0.03011491, -0.02761432,  0.33498831,  0.00130107, -0.00822465,\n",
       "         -0.15241471, -0.00411233,  0.02593344, -0.01233698, -0.00822465,\n",
       "         -0.03011491, -0.05522864, -0.00411233, -0.09034473, -0.03011491,\n",
       "         -0.00411233, -0.00411233, -0.00411233, -0.00411233, -0.00411233,\n",
       "         -0.00411233, -0.00411233,  0.00864448, -0.09034473,  0.00864448,\n",
       "         -0.13143599, -0.05522864, -0.03011491, -0.00411233, -0.06022982,\n",
       "         -0.03011491, -0.03011491,  0.00130107, -0.00411233, -0.00411233,\n",
       "         -0.05522864,  0.24596994, -0.00411233, -0.02467396,  0.00864448,\n",
       "         -0.00411233, -0.00411233, -0.00411233, -0.00411233, -0.03011491,\n",
       "         -0.03011491, -0.04752111, -0.00411233, -0.00411233,  0.00130107,\n",
       "         -0.00411233, -0.05522864, -0.03011491, -0.03011491,  0.00130107,\n",
       "          0.00130107, -0.00411233, -0.0055859 , -0.00411233, -0.00822465,\n",
       "          0.00864448, -0.00411233, -0.00822465,  0.00130107, -0.00411233,\n",
       "         -0.00822465, -0.00411233, -0.00411233, -0.02761432, -0.03011491,\n",
       "         -0.00411233,  0.01604802, -0.00411233, -0.03093212, -0.00822465,\n",
       "         -0.06022982, -0.03093212, -0.03011491,  0.26363086, -0.00411233,\n",
       "         -0.00822465,  0.00260215, -0.03011491,  0.00864448, -0.03011491,\n",
       "         -0.03011491, -0.03011491,  0.33498831, -0.03011491, -0.02761432,\n",
       "          0.00864448, -0.00411233, -0.00822465,  0.00864448, -0.03011491,\n",
       "         -0.03011491, -0.03011491, -0.00411233, -0.00411233, -0.03011491,\n",
       "         -0.00822465, -0.00555445, -0.00411233,  0.22738081,  0.00864448,\n",
       "         -0.00411233, -0.06022982, -0.05191084, -0.03011491, -0.03011491,\n",
       "          0.00864448, -0.00411233, -0.00822465, -0.02761432, -0.00411233,\n",
       "         -0.03011491, -0.09034473, -0.09034473, -0.00411233, -0.00411233,\n",
       "         -0.03011491, -0.01795826, -0.03424992, -0.03011491])),\n",
       " (3, array([-4.52713055e-02,  3.30267182e-02,  8.62070715e-02, -4.52713055e-02,\n",
       "         -7.50366592e-02,  7.33853685e-02,  2.87356905e-02,  5.74713810e-02,\n",
       "         -4.52713055e-02,  2.87356905e-02,  8.62070715e-02, -4.52713055e-02,\n",
       "         -5.03280562e-03, -2.84672773e-02, -4.52713055e-02, -4.52713055e-02,\n",
       "          2.87356905e-02,  5.74713810e-02,  8.62070715e-02,  9.84294406e-03,\n",
       "          2.87356905e-02,  5.74713810e-02,  2.87356905e-02,  5.74713810e-02,\n",
       "         -5.69345545e-02,  1.02578041e-01,  2.87356905e-02, -1.81085222e-01,\n",
       "         -4.52713055e-02,  2.87356905e-02, -1.35813917e-01, -4.52713055e-02,\n",
       "         -2.84672773e-02, -5.69345545e-02,  2.87356905e-02, -4.52713055e-02,\n",
       "         -9.05426110e-02, -4.52713055e-02, -4.52713055e-02, -4.52713055e-02,\n",
       "         -7.50366592e-02,  2.87356905e-02, -4.52713055e-02,  2.87356905e-02,\n",
       "          5.74713810e-02,  2.87356905e-02,  3.30267182e-02,  8.62070715e-02,\n",
       "          5.74713810e-02,  1.14942762e-01,  2.87356905e-02,  3.44828286e-01,\n",
       "         -4.52713055e-02, -4.52713055e-02,  2.87356905e-02,  2.87356905e-02,\n",
       "         -2.84672773e-02,  2.87356905e-02,  2.87356905e-02,  2.34003283e-02,\n",
       "         -2.84672773e-02,  2.87356905e-02, -9.05426110e-02,  2.87356905e-02,\n",
       "          8.62070715e-02, -4.45112729e-02, -4.52713055e-02, -9.05426110e-02,\n",
       "          8.62070715e-02,  2.87356905e-02,  5.74713810e-02, -4.98654343e-02,\n",
       "          2.87356905e-02,  1.14942762e-01, -5.03280562e-03,  2.87356905e-02,\n",
       "         -5.69345545e-02, -2.84672773e-02,  8.62070715e-02,  2.87356905e-02,\n",
       "          2.16554107e-04, -4.52713055e-02,  5.74713810e-02,  2.87356905e-02,\n",
       "          2.87356905e-02,  1.43678452e-01,  2.87356905e-02, -2.84672773e-02,\n",
       "         -2.84672773e-02, -4.52713055e-02,  2.87356905e-02,  2.87356905e-02,\n",
       "         -2.84672773e-02,  2.87356905e-02, -4.52713055e-02,  2.87356905e-02,\n",
       "          8.62070715e-02, -4.52713055e-02,  2.87356905e-02, -2.84672773e-02,\n",
       "          2.87356905e-02,  2.87356905e-02,  2.87356905e-02,  2.87356905e-02,\n",
       "         -2.84672773e-02,  2.87356905e-02, -4.52713055e-02, -4.52713055e-02,\n",
       "          2.87356905e-02,  2.87356905e-02,  2.87356905e-02, -4.52713055e-02,\n",
       "          2.87356905e-02, -1.33408301e-02,  2.01149833e-01,  5.74713810e-02,\n",
       "          1.72414143e-01,  5.74713810e-02,  5.74713810e-02,  2.16554107e-04,\n",
       "         -5.03280562e-03, -4.52713055e-02,  2.87356905e-02,  8.62070715e-02,\n",
       "         -2.70276559e-02,  2.87356905e-02, -4.52713055e-02, -4.52713055e-02,\n",
       "         -2.84672773e-02,  2.87356905e-02,  2.87356905e-02,  2.87356905e-02,\n",
       "          2.87356905e-02,  5.74713810e-02,  8.62070715e-02,  5.74713810e-02,\n",
       "          2.87356905e-02, -4.52713055e-02,  2.87356905e-02,  2.87356905e-02,\n",
       "          2.87356905e-02, -4.52713055e-02, -2.84672773e-02,  2.87356905e-02,\n",
       "         -5.69345545e-02,  2.34003283e-02, -4.52713055e-02,  2.87356905e-02,\n",
       "         -9.05426110e-02, -1.33408301e-02,  2.87356905e-02,  2.87356905e-02,\n",
       "         -7.50366592e-02,  1.14942762e-01,  9.84294406e-03,  5.74713810e-02,\n",
       "         -4.52713055e-02, -1.07145752e-02, -4.52713055e-02,  2.87356905e-02,\n",
       "          2.87356905e-02,  9.84294406e-03, -4.52713055e-02,  2.87356905e-02,\n",
       "         -2.84672773e-02, -4.52713055e-02, -1.33408301e-02, -7.50366592e-02,\n",
       "         -5.03280562e-03,  5.74713810e-02, -1.72780077e-01,  2.87356905e-02,\n",
       "         -8.54018318e-02,  8.62070715e-02,  5.74713810e-02, -4.52713055e-02,\n",
       "         -2.66816602e-02,  2.87356905e-02, -1.35813917e-01, -4.52713055e-02,\n",
       "          2.87356905e-02,  2.87356905e-02,  2.87356905e-02,  2.87356905e-02,\n",
       "          2.87356905e-02,  2.87356905e-02,  2.87356905e-02, -2.84672773e-02,\n",
       "         -1.35813917e-01, -2.84672773e-02, -1.13071699e-01, -2.66816602e-02,\n",
       "         -4.52713055e-02,  2.87356905e-02, -9.05426110e-02, -4.52713055e-02,\n",
       "         -4.52713055e-02, -5.03280562e-03,  2.87356905e-02,  2.87356905e-02,\n",
       "         -2.66816602e-02, -9.70637084e-02,  2.87356905e-02,  1.72414143e-01,\n",
       "         -2.84672773e-02,  2.87356905e-02,  2.87356905e-02,  2.87356905e-02,\n",
       "          2.87356905e-02, -4.52713055e-02, -4.52713055e-02,  1.25761815e-01,\n",
       "          2.87356905e-02,  2.87356905e-02, -5.03280562e-03,  2.87356905e-02,\n",
       "         -2.66816602e-02, -4.52713055e-02, -4.52713055e-02, -5.03280562e-03,\n",
       "         -5.03280562e-03,  2.87356905e-02,  4.23071124e-02,  2.87356905e-02,\n",
       "          5.74713810e-02, -2.84672773e-02,  2.87356905e-02,  5.74713810e-02,\n",
       "         -5.03280562e-03,  2.87356905e-02,  5.74713810e-02,  2.87356905e-02,\n",
       "          2.87356905e-02, -1.33408301e-02, -4.52713055e-02,  2.87356905e-02,\n",
       "         -5.40553119e-02,  2.87356905e-02,  9.84294406e-03,  5.74713810e-02,\n",
       "         -9.05426110e-02,  9.84294406e-03, -4.52713055e-02, -1.41715559e-02,\n",
       "          2.87356905e-02,  5.74713810e-02, -1.00656112e-02, -4.52713055e-02,\n",
       "         -2.84672773e-02, -4.52713055e-02, -4.52713055e-02, -4.52713055e-02,\n",
       "         -7.50366592e-02, -4.52713055e-02, -1.33408301e-02, -2.84672773e-02,\n",
       "          2.87356905e-02,  5.74713810e-02, -2.84672773e-02, -4.52713055e-02,\n",
       "         -4.52713055e-02, -4.52713055e-02,  2.87356905e-02,  2.87356905e-02,\n",
       "         -4.52713055e-02,  5.74713810e-02, -6.82686961e-02,  2.87356905e-02,\n",
       "         -5.00731657e-02, -2.84672773e-02,  2.87356905e-02, -9.05426110e-02,\n",
       "         -4.98654343e-02, -4.52713055e-02, -4.52713055e-02, -2.84672773e-02,\n",
       "          2.87356905e-02,  5.74713810e-02, -1.33408301e-02,  2.87356905e-02,\n",
       "         -4.52713055e-02, -1.35813917e-01, -1.35813917e-01,  2.87356905e-02,\n",
       "          2.87356905e-02, -4.52713055e-02,  4.45529484e-02,  3.30267182e-02,\n",
       "         -4.52713055e-02])),\n",
       " (4, array([ 0.00566724, -0.00560768, -0.01261781,  0.00566724,  0.03114111,\n",
       "          0.00211686, -0.00420594, -0.00841188,  0.00566724, -0.00420594,\n",
       "         -0.01261781,  0.00566724,  0.17047171, -0.09630143,  0.00566724,\n",
       "          0.00566724, -0.00420594, -0.00841188, -0.01261781, -0.00221435,\n",
       "         -0.00420594, -0.00841188, -0.00420594, -0.00841188, -0.19260285,\n",
       "         -0.01578765, -0.00420594,  0.02266897,  0.00566724, -0.00420594,\n",
       "          0.01700173,  0.00566724, -0.09630143, -0.19260285, -0.00420594,\n",
       "          0.00566724,  0.01133449,  0.00566724,  0.00566724,  0.00566724,\n",
       "          0.03114111, -0.00420594,  0.00566724, -0.00420594, -0.00841188,\n",
       "         -0.00420594, -0.00560768, -0.01261781, -0.00841188, -0.01682375,\n",
       "         -0.00420594, -0.05047126,  0.00566724,  0.00566724, -0.00420594,\n",
       "         -0.00420594, -0.09630143, -0.00420594, -0.00420594, -0.08448203,\n",
       "         -0.09630143, -0.00420594,  0.01133449, -0.00420594, -0.01261781,\n",
       "         -0.0352765 ,  0.00566724,  0.01133449, -0.01261781, -0.00420594,\n",
       "         -0.00841188,  0.00575127, -0.00420594, -0.01682375,  0.17047171,\n",
       "         -0.00420594, -0.19260285, -0.09630143, -0.01261781, -0.00420594,\n",
       "         -0.08108871,  0.00566724, -0.00841188, -0.00420594, -0.00420594,\n",
       "         -0.02102969, -0.00420594, -0.09630143, -0.09630143,  0.00566724,\n",
       "         -0.00420594, -0.00420594, -0.09630143, -0.00420594,  0.00566724,\n",
       "         -0.00420594, -0.01261781,  0.00566724, -0.00420594, -0.09630143,\n",
       "         -0.00420594, -0.00420594, -0.00420594, -0.00420594, -0.09630143,\n",
       "         -0.00420594,  0.00566724,  0.00566724, -0.00420594, -0.00420594,\n",
       "         -0.00420594,  0.00566724, -0.00420594,  0.00117897, -0.02944157,\n",
       "         -0.00841188, -0.02523563, -0.00841188, -0.00841188, -0.08108871,\n",
       "          0.17047171,  0.00566724, -0.00420594, -0.01261781,  0.05984012,\n",
       "         -0.00420594,  0.00566724,  0.00566724, -0.09630143, -0.00420594,\n",
       "         -0.00420594, -0.00420594, -0.00420594, -0.00841188, -0.01261781,\n",
       "         -0.00841188, -0.00420594,  0.00566724, -0.00420594, -0.00420594,\n",
       "         -0.00420594,  0.00566724, -0.09630143, -0.00420594, -0.19260285,\n",
       "         -0.08448203,  0.00566724, -0.00420594,  0.01133449,  0.00117897,\n",
       "         -0.00420594, -0.00420594,  0.03114111, -0.01682375, -0.00221435,\n",
       "         -0.00841188,  0.00566724, -0.13364325,  0.00566724, -0.00420594,\n",
       "         -0.00420594, -0.00221435,  0.00566724, -0.00420594, -0.09630143,\n",
       "          0.00566724,  0.00117897,  0.03114111,  0.17047171, -0.00841188,\n",
       "          0.02064713, -0.00420594, -0.28890428, -0.01261781, -0.00841188,\n",
       "          0.00566724,  0.00235794, -0.00420594,  0.01700173,  0.00566724,\n",
       "         -0.00420594, -0.00420594, -0.00420594, -0.00420594, -0.00420594,\n",
       "         -0.00420594, -0.00420594, -0.09630143,  0.01700173, -0.09630143,\n",
       "          0.01268151,  0.00235794,  0.00566724, -0.00420594,  0.01133449,\n",
       "          0.00566724,  0.00566724,  0.17047171, -0.00420594, -0.00420594,\n",
       "          0.00235794,  0.02969675, -0.00420594, -0.02523563, -0.09630143,\n",
       "         -0.00420594, -0.00420594, -0.00420594, -0.00420594,  0.00566724,\n",
       "          0.00566724, -0.01918097, -0.00420594, -0.00420594,  0.17047171,\n",
       "         -0.00420594,  0.00235794,  0.00566724,  0.00566724,  0.17047171,\n",
       "          0.17047171, -0.00420594,  0.13074885, -0.00420594, -0.00841188,\n",
       "         -0.09630143, -0.00420594, -0.00841188,  0.17047171, -0.00420594,\n",
       "         -0.00841188, -0.00420594, -0.00420594,  0.00117897,  0.00566724,\n",
       "         -0.00420594,  0.11968023, -0.00420594, -0.00221435, -0.00841188,\n",
       "          0.01133449, -0.00221435,  0.00566724,  0.0183378 , -0.00420594,\n",
       "         -0.00841188,  0.34094341,  0.00566724, -0.09630143,  0.00566724,\n",
       "          0.00566724,  0.00566724,  0.03114111,  0.00566724,  0.00117897,\n",
       "         -0.09630143, -0.00420594, -0.00841188, -0.09630143,  0.00566724,\n",
       "          0.00566724,  0.00566724, -0.00420594, -0.00420594,  0.00566724,\n",
       "         -0.00841188, -0.19250391, -0.00420594, -0.04645539, -0.09630143,\n",
       "         -0.00420594,  0.01133449,  0.00575127,  0.00566724,  0.00566724,\n",
       "         -0.09630143, -0.00420594, -0.00841188,  0.00117897, -0.00420594,\n",
       "          0.00566724,  0.01700173,  0.01700173, -0.00420594, -0.00420594,\n",
       "          0.00566724,  0.20563592, -0.00560768,  0.00566724]))]"
      ]
     },
     "execution_count": 103,
     "metadata": {},
     "output_type": "execute_result"
    }
   ],
   "source": [
    "list(enumerate(svd_model.components_))"
   ]
  },
  {
   "cell_type": "code",
   "execution_count": 107,
   "metadata": {},
   "outputs": [],
   "source": [
    "#pip install gensim"
   ]
  },
  {
   "cell_type": "code",
   "execution_count": 108,
   "metadata": {},
   "outputs": [],
   "source": [
    "from nltk.corpus import stopwords\n",
    "from nltk.stem.wordnet import WordNetLemmatizer\n",
    "import string\n",
    "import gensim\n",
    "from gensim.models.lsimodel import LsiModel\n",
    "from gensim import corpora\n",
    "from pprint import pprint"
   ]
  },
  {
   "cell_type": "code",
   "execution_count": 109,
   "metadata": {},
   "outputs": [],
   "source": [
    "stop_word = stopwords_set\n",
    "exclude = set(string.punctuation)"
   ]
  },
  {
   "cell_type": "code",
   "execution_count": 110,
   "metadata": {},
   "outputs": [],
   "source": [
    "lemma = WordNetLemmatizer()"
   ]
  },
  {
   "cell_type": "code",
   "execution_count": 111,
   "metadata": {},
   "outputs": [],
   "source": [
    "def clean(doc):\n",
    "    stop_free = \" \".join([i for i in doc.lower().split() if i not in stop_word])\n",
    "    punc_free = \"\".join([i for i in stop_free if i not in exclude])\n",
    "    normalized = \" \".join([lemma.lemmatize(i) for i in punc_free.split()])\n",
    "    return normalized"
   ]
  },
  {
   "cell_type": "code",
   "execution_count": 112,
   "metadata": {},
   "outputs": [],
   "source": [
    "list_of_docs = data[\"X\"].tolist()"
   ]
  },
  {
   "cell_type": "code",
   "execution_count": 113,
   "metadata": {},
   "outputs": [
    {
     "name": "stdout",
     "output_type": "stream",
     "text": [
      "[['loan', 'switched', 'navient', 'never', 'told', 'deliquint', 'balance', 'not', 'going', 'purchase', 'vehicle', 'discovered', 'credit', 'score', 'dropped', 'xxxx', 'faithful', 'paying', 'student', 'loan', 'told', 'navient', 'company', 'delinquency', 'with', 'contacted', 'navient', 'resolve', 'issue', 'kept', 'told', 'contact', 'credit', 'bureau', 'expalin', 'situation', 'maybe', 'could', 'help', 'me', 'angry', 'hurried', 'paid', 'balance', 'tried', 'dispute', 'delinquency', 'credit', 'bureau', 'much', 'trouble', 'bringing', 'credit', 'score', 'back', 'up'], ['tried', 'sign', 'spending', 'monitoring', 'program', 'capital', 'one', 'let', 'access', 'account']]\n"
     ]
    }
   ],
   "source": [
    "doc_clean = [clean(doc).split() for doc in list_of_docs]\n",
    "print(doc_clean[:2])"
   ]
  },
  {
   "cell_type": "code",
   "execution_count": 114,
   "metadata": {},
   "outputs": [
    {
     "data": {
      "text/plain": [
       "<gensim.corpora.dictionary.Dictionary at 0x1a1e654c50>"
      ]
     },
     "execution_count": 114,
     "metadata": {},
     "output_type": "execute_result"
    }
   ],
   "source": [
    "dictionary = corpora.Dictionary(doc_clean)\n",
    "dictionary"
   ]
  },
  {
   "cell_type": "code",
   "execution_count": 115,
   "metadata": {},
   "outputs": [],
   "source": [
    "# Creating the corpus\n",
    "doc_term_matrix = [dictionary.doc2bow(doc) for doc in doc_clean]\n",
    "#print(doc_term_matrix)"
   ]
  },
  {
   "cell_type": "code",
   "execution_count": 116,
   "metadata": {},
   "outputs": [],
   "source": [
    "# Creating the LSi model\n",
    "lsimodel = LsiModel(corpus = doc_term_matrix, num_topics = 5, id2word=dictionary)"
   ]
  },
  {
   "cell_type": "code",
   "execution_count": 117,
   "metadata": {},
   "outputs": [
    {
     "name": "stdout",
     "output_type": "stream",
     "text": [
      "[(0,\n",
      "  '0.351*\"xxxxxxxx\" + 0.311*\"credit\" + 0.308*\"xxxx\" + 0.293*\"account\" + '\n",
      "  '0.193*\"payment\" + 0.142*\"report\" + 0.139*\"bank\" + 0.132*\"would\" + '\n",
      "  '0.132*\"card\" + 0.116*\"information\"'),\n",
      " (1,\n",
      "  '-0.455*\"credit\" + 0.345*\"xxxxxxxx\" + -0.298*\"consumer\" + -0.240*\"debt\" + '\n",
      "  '-0.234*\"report\" + -0.225*\"agency\" + -0.209*\"information\" + '\n",
      "  '-0.204*\"reporting\" + -0.160*\"collection\" + 0.137*\"bank\"'),\n",
      " (2,\n",
      "  '0.355*\"consumer\" + -0.350*\"credit\" + -0.277*\"card\" + 0.203*\"law\" + '\n",
      "  '0.186*\"criminal\" + 0.178*\"property\" + 0.170*\"information\" + '\n",
      "  '0.165*\"mortgage\" + 0.164*\"agency\" + 0.149*\"court\"'),\n",
      " (3,\n",
      "  '-0.709*\"xxxxxxxx\" + 0.391*\"payment\" + 0.252*\"loan\" + 0.133*\"would\" + '\n",
      "  '0.107*\"told\" + -0.101*\"usaa\" + -0.101*\"inquiry\" + 0.088*\"pay\" + 0.080*\"nt\" '\n",
      "  '+ -0.077*\"report\"'),\n",
      " (4,\n",
      "  '-0.377*\"consumer\" + 0.290*\"credit\" + -0.258*\"information\" + '\n",
      "  '-0.206*\"payment\" + 0.179*\"criminal\" + 0.163*\"law\" + 0.161*\"card\" + '\n",
      "  '-0.155*\"loan\" + -0.148*\"xxxxxxxx\" + 0.148*\"property\"')]\n"
     ]
    }
   ],
   "source": [
    "# Creating the LSi model\n",
    "lsimodel = LsiModel(corpus = doc_term_matrix, num_topics = 5, id2word=dictionary)\n",
    "pprint(lsimodel.print_topics())"
   ]
  },
  {
   "cell_type": "code",
   "execution_count": 118,
   "metadata": {},
   "outputs": [],
   "source": [
    "from nltk.corpus import stopwords\n",
    "from nltk.stem.wordnet import WordNetLemmatizer\n",
    "import string\n",
    "from gensim.models.ldamodel import LdaModel"
   ]
  },
  {
   "cell_type": "code",
   "execution_count": 119,
   "metadata": {},
   "outputs": [],
   "source": [
    "dictionary = corpora.Dictionary(doc_clean)"
   ]
  },
  {
   "cell_type": "code",
   "execution_count": 120,
   "metadata": {},
   "outputs": [],
   "source": [
    "doc_term_matrix = [dictionary.doc2bow(doc) for doc in doc_clean]"
   ]
  },
  {
   "cell_type": "code",
   "execution_count": 121,
   "metadata": {},
   "outputs": [],
   "source": [
    "# Creating the LDA model\n",
    "ldamodel = LdaModel(corpus = doc_term_matrix, num_topics = 5, id2word = dictionary, passes = 30, random_state = 20)"
   ]
  },
  {
   "cell_type": "code",
   "execution_count": 122,
   "metadata": {},
   "outputs": [
    {
     "name": "stdout",
     "output_type": "stream",
     "text": [
      "[(0,\n",
      "  '0.044*\"credit\" + 0.029*\"report\" + 0.029*\"account\" + 0.019*\"xxxx\" + '\n",
      "  '0.018*\"information\" + 0.016*\"xxxxxxxx\" + 0.014*\"reporting\" + '\n",
      "  '0.011*\"company\" + 0.009*\"debt\" + 0.009*\"agency\"'),\n",
      " (1,\n",
      "  '0.020*\"account\" + 0.016*\"xxxx\" + 0.015*\"card\" + 0.014*\"credit\" + '\n",
      "  '0.011*\"bank\" + 0.011*\"xxxxxxxx\" + 0.010*\"call\" + 0.009*\"would\" + '\n",
      "  '0.009*\"called\" + 0.008*\"told\"'),\n",
      " (2,\n",
      "  '0.034*\"debt\" + 0.011*\"collection\" + 0.011*\"company\" + 0.010*\"xxxx\" + '\n",
      "  '0.009*\"law\" + 0.008*\"letter\" + 0.008*\"criminal\" + 0.007*\"never\" + '\n",
      "  '0.006*\"court\" + 0.006*\"property\"'),\n",
      " (3,\n",
      "  '0.013*\"debt\" + 0.013*\"collection\" + 0.010*\"credit\" + 0.010*\"agency\" + '\n",
      "  '0.006*\"xxxxxxxx\" + 0.006*\"year\" + 0.006*\"right\" + 0.006*\"xxxx\" + '\n",
      "  '0.005*\"letter\" + 0.005*\"court\"'),\n",
      " (4,\n",
      "  '0.028*\"payment\" + 0.025*\"loan\" + 0.016*\"xxxxxxxx\" + 0.010*\"mortgage\" + '\n",
      "  '0.010*\"xxxx\" + 0.009*\"would\" + 0.008*\"month\" + 0.007*\"year\" + 0.007*\"time\" '\n",
      "  '+ 0.006*\"pay\"')]\n"
     ]
    }
   ],
   "source": [
    "pprint(ldamodel.print_topics())"
   ]
  },
  {
   "cell_type": "code",
   "execution_count": 123,
   "metadata": {},
   "outputs": [],
   "source": [
    "from gensim.models.coherencemodel import CoherenceModel"
   ]
  },
  {
   "cell_type": "code",
   "execution_count": 124,
   "metadata": {},
   "outputs": [],
   "source": [
    "# Compute Perplexity\n",
    "perplexity_lda = ldamodel.log_perplexity(doc_term_matrix)\n",
    "\n",
    "# Compute Coherence Score\n",
    "coherence_model_lda = CoherenceModel(model=ldamodel,texts=doc_clean, dictionary=dictionary, coherence=\"c_v\")\n",
    "coherence_lda = coherence_model_lda.get_coherence()"
   ]
  },
  {
   "cell_type": "code",
   "execution_count": 125,
   "metadata": {},
   "outputs": [
    {
     "data": {
      "text/plain": [
       "0.42714577311405055"
      ]
     },
     "execution_count": 125,
     "metadata": {},
     "output_type": "execute_result"
    }
   ],
   "source": [
    "coherence_lda"
   ]
  },
  {
   "cell_type": "code",
   "execution_count": 126,
   "metadata": {},
   "outputs": [
    {
     "data": {
      "text/plain": [
       "-7.244060971210192"
      ]
     },
     "execution_count": 126,
     "metadata": {},
     "output_type": "execute_result"
    }
   ],
   "source": [
    "perplexity_lda"
   ]
  },
  {
   "cell_type": "code",
   "execution_count": 127,
   "metadata": {},
   "outputs": [],
   "source": [
    "#pip install pyLDAvis"
   ]
  },
  {
   "cell_type": "code",
   "execution_count": 128,
   "metadata": {},
   "outputs": [],
   "source": [
    "#import pyLDAvis\n",
    "#import pyLDAvis.gensim \n",
    "\n",
    "#pyLDAvis.enable_notebook()\n",
    "#vis = pyLDAvis.gensim.prepare(ldamodel, doc_term_matrix, dictionary)"
   ]
  },
  {
   "cell_type": "code",
   "execution_count": 130,
   "metadata": {},
   "outputs": [
    {
     "data": {
      "text/html": [
       "<div>\n",
       "<style scoped>\n",
       "    .dataframe tbody tr th:only-of-type {\n",
       "        vertical-align: middle;\n",
       "    }\n",
       "\n",
       "    .dataframe tbody tr th {\n",
       "        vertical-align: top;\n",
       "    }\n",
       "\n",
       "    .dataframe thead th {\n",
       "        text-align: right;\n",
       "    }\n",
       "</style>\n",
       "<table border=\"1\" class=\"dataframe\">\n",
       "  <thead>\n",
       "    <tr style=\"text-align: right;\">\n",
       "      <th></th>\n",
       "      <th>Document_No</th>\n",
       "      <th>Dominant_Topic</th>\n",
       "      <th>Topic_Perc_Contrib</th>\n",
       "      <th>Keywords</th>\n",
       "      <th>Text</th>\n",
       "    </tr>\n",
       "  </thead>\n",
       "  <tbody>\n",
       "    <tr>\n",
       "      <th>0</th>\n",
       "      <td>0</td>\n",
       "      <td>4.0</td>\n",
       "      <td>0.7590</td>\n",
       "      <td>payment, loan, xxxxxxxx, mortgage, xxxx, would...</td>\n",
       "      <td>[loan, switched, navient, never, told, deliqui...</td>\n",
       "    </tr>\n",
       "    <tr>\n",
       "      <th>1</th>\n",
       "      <td>1</td>\n",
       "      <td>1.0</td>\n",
       "      <td>0.9253</td>\n",
       "      <td>account, xxxx, card, credit, bank, xxxxxxxx, c...</td>\n",
       "      <td>[tried, sign, spending, monitoring, program, c...</td>\n",
       "    </tr>\n",
       "    <tr>\n",
       "      <th>2</th>\n",
       "      <td>2</td>\n",
       "      <td>1.0</td>\n",
       "      <td>0.6237</td>\n",
       "      <td>account, xxxx, card, credit, bank, xxxxxxxx, c...</td>\n",
       "      <td>[mortgage, bb, bank, recently, investigating, ...</td>\n",
       "    </tr>\n",
       "    <tr>\n",
       "      <th>3</th>\n",
       "      <td>3</td>\n",
       "      <td>4.0</td>\n",
       "      <td>0.6456</td>\n",
       "      <td>payment, loan, xxxxxxxx, mortgage, xxxx, would...</td>\n",
       "      <td>[entire, lending, experience, citizen, bank, t...</td>\n",
       "    </tr>\n",
       "    <tr>\n",
       "      <th>4</th>\n",
       "      <td>4</td>\n",
       "      <td>1.0</td>\n",
       "      <td>0.5636</td>\n",
       "      <td>account, xxxx, card, credit, bank, xxxxxxxx, c...</td>\n",
       "      <td>[credit, score, gone, point, last, month, s, s...</td>\n",
       "    </tr>\n",
       "    <tr>\n",
       "      <th>5</th>\n",
       "      <td>5</td>\n",
       "      <td>0.0</td>\n",
       "      <td>0.9685</td>\n",
       "      <td>credit, report, account, xxxx, information, xx...</td>\n",
       "      <td>[month, back, contacted, regard, fraudulent, a...</td>\n",
       "    </tr>\n",
       "    <tr>\n",
       "      <th>6</th>\n",
       "      <td>6</td>\n",
       "      <td>0.0</td>\n",
       "      <td>0.7208</td>\n",
       "      <td>credit, report, account, xxxx, information, xx...</td>\n",
       "      <td>[victim, fraud, file, federal, trade, commissi...</td>\n",
       "    </tr>\n",
       "    <tr>\n",
       "      <th>7</th>\n",
       "      <td>7</td>\n",
       "      <td>0.0</td>\n",
       "      <td>0.7322</td>\n",
       "      <td>credit, report, account, xxxx, information, xx...</td>\n",
       "      <td>[disputing, bankruptcy, credit, report, writte...</td>\n",
       "    </tr>\n",
       "    <tr>\n",
       "      <th>8</th>\n",
       "      <td>8</td>\n",
       "      <td>1.0</td>\n",
       "      <td>0.9043</td>\n",
       "      <td>account, xxxx, card, credit, bank, xxxxxxxx, c...</td>\n",
       "      <td>[today, received, phone, call, number, listed,...</td>\n",
       "    </tr>\n",
       "    <tr>\n",
       "      <th>9</th>\n",
       "      <td>9</td>\n",
       "      <td>1.0</td>\n",
       "      <td>0.9905</td>\n",
       "      <td>account, xxxx, card, credit, bank, xxxxxxxx, c...</td>\n",
       "      <td>[gotten, 7, call, ar, resource, looking, perso...</td>\n",
       "    </tr>\n",
       "  </tbody>\n",
       "</table>\n",
       "</div>"
      ],
      "text/plain": [
       "   Document_No  Dominant_Topic  Topic_Perc_Contrib  \\\n",
       "0            0             4.0              0.7590   \n",
       "1            1             1.0              0.9253   \n",
       "2            2             1.0              0.6237   \n",
       "3            3             4.0              0.6456   \n",
       "4            4             1.0              0.5636   \n",
       "5            5             0.0              0.9685   \n",
       "6            6             0.0              0.7208   \n",
       "7            7             0.0              0.7322   \n",
       "8            8             1.0              0.9043   \n",
       "9            9             1.0              0.9905   \n",
       "\n",
       "                                            Keywords  \\\n",
       "0  payment, loan, xxxxxxxx, mortgage, xxxx, would...   \n",
       "1  account, xxxx, card, credit, bank, xxxxxxxx, c...   \n",
       "2  account, xxxx, card, credit, bank, xxxxxxxx, c...   \n",
       "3  payment, loan, xxxxxxxx, mortgage, xxxx, would...   \n",
       "4  account, xxxx, card, credit, bank, xxxxxxxx, c...   \n",
       "5  credit, report, account, xxxx, information, xx...   \n",
       "6  credit, report, account, xxxx, information, xx...   \n",
       "7  credit, report, account, xxxx, information, xx...   \n",
       "8  account, xxxx, card, credit, bank, xxxxxxxx, c...   \n",
       "9  account, xxxx, card, credit, bank, xxxxxxxx, c...   \n",
       "\n",
       "                                                Text  \n",
       "0  [loan, switched, navient, never, told, deliqui...  \n",
       "1  [tried, sign, spending, monitoring, program, c...  \n",
       "2  [mortgage, bb, bank, recently, investigating, ...  \n",
       "3  [entire, lending, experience, citizen, bank, t...  \n",
       "4  [credit, score, gone, point, last, month, s, s...  \n",
       "5  [month, back, contacted, regard, fraudulent, a...  \n",
       "6  [victim, fraud, file, federal, trade, commissi...  \n",
       "7  [disputing, bankruptcy, credit, report, writte...  \n",
       "8  [today, received, phone, call, number, listed,...  \n",
       "9  [gotten, 7, call, ar, resource, looking, perso...  "
      ]
     },
     "execution_count": 130,
     "metadata": {},
     "output_type": "execute_result"
    }
   ],
   "source": [
    "def format_topics_sentences(ldamodel=ldamodel, corpus=doc_term_matrix, texts=doc_clean):\n",
    "    # Init output\n",
    "    sent_topics_df = pd.DataFrame()\n",
    "\n",
    "    # Get main topic in each document\n",
    "    for i, row in enumerate(ldamodel[corpus]):\n",
    "        row = sorted(row, key=lambda x: (x[1]), reverse=True)\n",
    "        # Get the Dominant topic, Perc Contribution and Keywords for each document\n",
    "        for j, (topic_num, prop_topic) in enumerate(row):\n",
    "            if j == 0:  # => dominant topic\n",
    "                wp = ldamodel.show_topic(topic_num)\n",
    "                topic_keywords = \", \".join([word for word, prop in wp])\n",
    "                sent_topics_df = sent_topics_df.append(pd.Series([int(topic_num), round(prop_topic,4),\n",
    "                                                        topic_keywords]), ignore_index=True)\n",
    "            else:\n",
    "                break\n",
    "    sent_topics_df.columns = ['Dominant_Topic', 'Perc_Contribution', 'Topic_Keywords']\n",
    "\n",
    "    # Add original text to the end of the output\n",
    "    contents = pd.Series(texts)\n",
    "    sent_topics_df = pd.concat([sent_topics_df, contents], axis=1)\n",
    "    return(sent_topics_df)\n",
    "\n",
    "\n",
    "df_topic_sents_keywords = format_topics_sentences(ldamodel=ldamodel, corpus=doc_term_matrix, texts=doc_clean)\n",
    "\n",
    "# Format\n",
    "df_dominant_topic = df_topic_sents_keywords.reset_index()\n",
    "df_dominant_topic.columns = ['Document_No', 'Dominant_Topic', 'Topic_Perc_Contrib', 'Keywords', 'Text']\n",
    "\n",
    "# Finding the dominant topic in each sentence\n",
    "df_dominant_topic.head(10)"
   ]
  },
  {
   "cell_type": "code",
   "execution_count": 131,
   "metadata": {},
   "outputs": [
    {
     "data": {
      "text/html": [
       "<div>\n",
       "<style scoped>\n",
       "    .dataframe tbody tr th:only-of-type {\n",
       "        vertical-align: middle;\n",
       "    }\n",
       "\n",
       "    .dataframe tbody tr th {\n",
       "        vertical-align: top;\n",
       "    }\n",
       "\n",
       "    .dataframe thead th {\n",
       "        text-align: right;\n",
       "    }\n",
       "</style>\n",
       "<table border=\"1\" class=\"dataframe\">\n",
       "  <thead>\n",
       "    <tr style=\"text-align: right;\">\n",
       "      <th></th>\n",
       "      <th>Topic_Num</th>\n",
       "      <th>Topic_Perc_Contrib</th>\n",
       "      <th>Keywords</th>\n",
       "      <th>Text</th>\n",
       "    </tr>\n",
       "  </thead>\n",
       "  <tbody>\n",
       "    <tr>\n",
       "      <th>0</th>\n",
       "      <td>0.0</td>\n",
       "      <td>0.9980</td>\n",
       "      <td>credit, report, account, xxxx, information, xx...</td>\n",
       "      <td>[block, except, otherwise, provided, section, ...</td>\n",
       "    </tr>\n",
       "    <tr>\n",
       "      <th>1</th>\n",
       "      <td>1.0</td>\n",
       "      <td>0.9989</td>\n",
       "      <td>account, xxxx, card, credit, bank, xxxxxxxx, c...</td>\n",
       "      <td>[xxxxxxxx, check, deposited, account, cashier,...</td>\n",
       "    </tr>\n",
       "    <tr>\n",
       "      <th>2</th>\n",
       "      <td>2.0</td>\n",
       "      <td>0.9993</td>\n",
       "      <td>debt, collection, company, xxxx, law, letter, ...</td>\n",
       "      <td>[cfpb, supposed, guarantee, filthy, law, firm,...</td>\n",
       "    </tr>\n",
       "    <tr>\n",
       "      <th>3</th>\n",
       "      <td>3.0</td>\n",
       "      <td>0.9978</td>\n",
       "      <td>debt, collection, credit, agency, xxxxxxxx, ye...</td>\n",
       "      <td>[america, biggest, scam, credit, reporting, ag...</td>\n",
       "    </tr>\n",
       "    <tr>\n",
       "      <th>4</th>\n",
       "      <td>4.0</td>\n",
       "      <td>0.9981</td>\n",
       "      <td>payment, loan, xxxxxxxx, mortgage, xxxx, would...</td>\n",
       "      <td>[foreclosure, sale, date, xxxxxxxx, xxxxxxxx, ...</td>\n",
       "    </tr>\n",
       "  </tbody>\n",
       "</table>\n",
       "</div>"
      ],
      "text/plain": [
       "   Topic_Num  Topic_Perc_Contrib  \\\n",
       "0        0.0              0.9980   \n",
       "1        1.0              0.9989   \n",
       "2        2.0              0.9993   \n",
       "3        3.0              0.9978   \n",
       "4        4.0              0.9981   \n",
       "\n",
       "                                            Keywords  \\\n",
       "0  credit, report, account, xxxx, information, xx...   \n",
       "1  account, xxxx, card, credit, bank, xxxxxxxx, c...   \n",
       "2  debt, collection, company, xxxx, law, letter, ...   \n",
       "3  debt, collection, credit, agency, xxxxxxxx, ye...   \n",
       "4  payment, loan, xxxxxxxx, mortgage, xxxx, would...   \n",
       "\n",
       "                                                Text  \n",
       "0  [block, except, otherwise, provided, section, ...  \n",
       "1  [xxxxxxxx, check, deposited, account, cashier,...  \n",
       "2  [cfpb, supposed, guarantee, filthy, law, firm,...  \n",
       "3  [america, biggest, scam, credit, reporting, ag...  \n",
       "4  [foreclosure, sale, date, xxxxxxxx, xxxxxxxx, ...  "
      ]
     },
     "execution_count": 131,
     "metadata": {},
     "output_type": "execute_result"
    }
   ],
   "source": [
    "sent_topics_sorteddf_mallet = pd.DataFrame()\n",
    "\n",
    "sent_topics_outdf_grpd = df_topic_sents_keywords.groupby('Dominant_Topic')\n",
    "\n",
    "for i, grp in sent_topics_outdf_grpd:\n",
    "    sent_topics_sorteddf_mallet = pd.concat([sent_topics_sorteddf_mallet, \n",
    "                                             grp.sort_values(['Perc_Contribution'], ascending=[0]).head(1)], \n",
    "                                            axis=0)\n",
    "\n",
    "# Reset Index    \n",
    "sent_topics_sorteddf_mallet.reset_index(drop=True, inplace=True)\n",
    "\n",
    "# Format\n",
    "sent_topics_sorteddf_mallet.columns = ['Topic_Num', \"Topic_Perc_Contrib\", \"Keywords\", \"Text\"]\n",
    "\n",
    "# Show\n",
    "sent_topics_sorteddf_mallet.head()"
   ]
  },
  {
   "cell_type": "code",
   "execution_count": 134,
   "metadata": {},
   "outputs": [],
   "source": [
    "#pip install WordCloud"
   ]
  },
  {
   "cell_type": "code",
   "execution_count": 136,
   "metadata": {},
   "outputs": [
    {
     "data": {
      "image/png": "[encoded data removed]",
      "text/plain": [
       "<Figure size 720x720 with 4 Axes>"
      ]
     },
     "metadata": {
      "needs_background": "light"
     },
     "output_type": "display_data"
    }
   ],
   "source": [
    "from matplotlib import pyplot as plt\n",
    "from wordcloud import WordCloud, STOPWORDS\n",
    "import matplotlib.colors as mcolors\n",
    "\n",
    "cols = [color for name, color in mcolors.TABLEAU_COLORS.items()]  # more colors: 'mcolors.XKCD_COLORS'\n",
    "\n",
    "cloud = WordCloud(stopwords=stopwords,\n",
    "                  background_color='white',\n",
    "                  width=2500,\n",
    "                  height=1800,\n",
    "                  max_words=10,\n",
    "                  colormap='tab10',\n",
    "                  color_func=lambda *args, **kwargs: cols[i],\n",
    "                  prefer_horizontal=1.0)\n",
    "\n",
    "topics = ldamodel.show_topics(formatted=False)\n",
    "\n",
    "fig, axes = plt.subplots(2, 2, figsize=(10,10), sharex=True, sharey=True)\n",
    "\n",
    "for i, ax in enumerate(axes.flatten()):\n",
    "    fig.add_subplot(ax)\n",
    "    topic_words = dict(topics[i][1])\n",
    "    cloud.generate_from_frequencies(topic_words, max_font_size=300)\n",
    "    plt.gca().imshow(cloud)\n",
    "    plt.gca().set_title('Topic ' + str(i), fontdict=dict(size=16))\n",
    "    plt.gca().axis('off')\n",
    "\n",
    "\n",
    "plt.subplots_adjust(wspace=0, hspace=0)\n",
    "plt.axis('off')\n",
    "plt.margins(x=0, y=0)\n",
    "plt.tight_layout()\n",
    "#fig.savefig('../images/word_cloud.png')\n",
    "plt.show()"
   ]
  },
  {
   "cell_type": "code",
   "execution_count": null,
   "metadata": {},
   "outputs": [],
   "source": []
  }
 ],
 "metadata": {
  "kernelspec": {
   "display_name": "Python 3",
   "language": "python",
   "name": "python3"
  },
  "language_info": {
   "codemirror_mode": {
    "name": "ipython",
    "version": 3
   },
   "file_extension": ".py",
   "mimetype": "text/x-python",
   "name": "python",
   "nbconvert_exporter": "python",
   "pygments_lexer": "ipython3",
   "version": "3.7.3"
  }
 },
 "nbformat": 4,
 "nbformat_minor": 2
}
